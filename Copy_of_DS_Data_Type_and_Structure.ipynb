{
  "nbformat": 4,
  "nbformat_minor": 0,
  "metadata": {
    "colab": {
      "provenance": [],
      "include_colab_link": true
    },
    "kernelspec": {
      "name": "python3",
      "display_name": "Python 3"
    },
    "language_info": {
      "name": "python"
    }
  },
  "cells": [
    {
      "cell_type": "markdown",
      "metadata": {
        "id": "view-in-github",
        "colab_type": "text"
      },
      "source": [
        "<a href=\"https://colab.research.google.com/github/leresearth/laras.dibimbing.github.io/blob/main/Copy_of_DS_Data_Type_and_Structure.ipynb\" target=\"_parent\"><img src=\"https://colab.research.google.com/assets/colab-badge.svg\" alt=\"Open In Colab\"/></a>"
      ]
    },
    {
      "cell_type": "markdown",
      "source": [
        "# **DATA STRUCTURE**"
      ],
      "metadata": {
        "id": "Nljy8JslSOoF"
      }
    },
    {
      "cell_type": "markdown",
      "source": [
        "## 1. List"
      ],
      "metadata": {
        "id": "ffFuyBANUW9C"
      }
    },
    {
      "cell_type": "code",
      "execution_count": 1,
      "metadata": {
        "id": "zHtETUd1R_BA"
      },
      "outputs": [],
      "source": [
        "contoh_list = [5,6,7,1,2,43,5,99,80]\n",
        "\n",
        "contoh_list2 = [\"Muhammad\", \"Rifqi\", \"Akram\"]"
      ]
    },
    {
      "cell_type": "code",
      "source": [
        "print(contoh_list)\n",
        "print(contoh_list2)"
      ],
      "metadata": {
        "colab": {
          "base_uri": "https://localhost:8080/"
        },
        "id": "g-fUQoycUtMU",
        "outputId": "c15a067c-a8b4-44f6-9038-dcdeb5c6fd30"
      },
      "execution_count": 2,
      "outputs": [
        {
          "output_type": "stream",
          "name": "stdout",
          "text": [
            "[5, 6, 7, 1, 2, 43, 5, 99, 80]\n",
            "['Muhammad', 'Rifqi', 'Akram']\n"
          ]
        }
      ]
    },
    {
      "cell_type": "markdown",
      "source": [
        "### Modified List"
      ],
      "metadata": {
        "id": "DTC_NKIPKOGX"
      }
    },
    {
      "cell_type": "code",
      "source": [
        "# untuk mengurutkan list dari kecil ke besar\n",
        "\n",
        "contoh_list.sort()\n",
        "contoh_list2.sort()\n",
        "\n",
        "print(contoh_list)\n",
        "print(contoh_list2)"
      ],
      "metadata": {
        "colab": {
          "base_uri": "https://localhost:8080/"
        },
        "id": "zyRaE6HFJ9lY",
        "outputId": "f8ce8053-b96f-4d40-a916-e3267924e51f"
      },
      "execution_count": 3,
      "outputs": [
        {
          "output_type": "stream",
          "name": "stdout",
          "text": [
            "[1, 2, 5, 5, 6, 7, 43, 80, 99]\n",
            "['Akram', 'Muhammad', 'Rifqi']\n"
          ]
        }
      ]
    },
    {
      "cell_type": "code",
      "source": [
        "# untuk mengurutkan list dari besar ke kecil\n",
        "\n",
        "contoh_list.reverse()\n",
        "contoh_list2.reverse()\n",
        "\n",
        "print(contoh_list)\n",
        "print(contoh_list2)"
      ],
      "metadata": {
        "colab": {
          "base_uri": "https://localhost:8080/"
        },
        "id": "d5CAizEWKLio",
        "outputId": "9c939ee3-a722-4b22-f17c-bd48d9294897"
      },
      "execution_count": 4,
      "outputs": [
        {
          "output_type": "stream",
          "name": "stdout",
          "text": [
            "[99, 80, 43, 7, 6, 5, 5, 2, 1]\n",
            "['Rifqi', 'Muhammad', 'Akram']\n"
          ]
        }
      ]
    },
    {
      "cell_type": "markdown",
      "source": [
        "### Add Element\n",
        "\n",
        "- `append()` menambahkan element diakhir list\n",
        "- `extend()` menggabungkan satu list ke list lainnya\n",
        "- `insert()` menambahkan elemen diposisi yang kita tentukan"
      ],
      "metadata": {
        "id": "xPKZKgbYItky"
      }
    },
    {
      "cell_type": "code",
      "source": [
        "angka = [1, 2, 3, 4, 5]\n",
        "\n",
        "abjad = ['a', 'b', 'c', 'd', 'e']"
      ],
      "metadata": {
        "id": "Zc6i12P6IgG9"
      },
      "execution_count": 5,
      "outputs": []
    },
    {
      "cell_type": "code",
      "source": [
        "# Menambahkan element menggunakan append()\n",
        "\n",
        "angka.append(6)\n",
        "\n",
        "print(angka)"
      ],
      "metadata": {
        "colab": {
          "base_uri": "https://localhost:8080/"
        },
        "id": "1jSugJDIIgMB",
        "outputId": "459747d9-a19f-43b3-e002-dc77fe739f76"
      },
      "execution_count": 6,
      "outputs": [
        {
          "output_type": "stream",
          "name": "stdout",
          "text": [
            "[1, 2, 3, 4, 5, 6]\n"
          ]
        }
      ]
    },
    {
      "cell_type": "code",
      "source": [
        "# Menggabungkan dua list\n",
        "\n",
        "angka.extend(abjad)\n",
        "\n",
        "print(angka)"
      ],
      "metadata": {
        "colab": {
          "base_uri": "https://localhost:8080/"
        },
        "id": "DNr7UxNBIgXS",
        "outputId": "a23ba57f-355f-41b7-d1ea-818f4d454891"
      },
      "execution_count": 7,
      "outputs": [
        {
          "output_type": "stream",
          "name": "stdout",
          "text": [
            "[1, 2, 3, 4, 5, 6, 'a', 'b', 'c', 'd', 'e']\n"
          ]
        }
      ]
    },
    {
      "cell_type": "code",
      "source": [
        "abjad.extend(angka)\n",
        "print(abjad)"
      ],
      "metadata": {
        "colab": {
          "base_uri": "https://localhost:8080/"
        },
        "id": "TDKZLmw3evD2",
        "outputId": "4c405996-878a-487b-b8c4-11290a8a9a26"
      },
      "execution_count": 8,
      "outputs": [
        {
          "output_type": "stream",
          "name": "stdout",
          "text": [
            "['a', 'b', 'c', 'd', 'e', 1, 2, 3, 4, 5, 6, 'a', 'b', 'c', 'd', 'e']\n"
          ]
        }
      ]
    },
    {
      "cell_type": "code",
      "source": [
        "# Menambahkan list di posisi tertentu\n",
        "\n",
        "'''\n",
        "  insert(posisi_index, elemen)\n",
        "'''\n",
        "\n",
        "angka.insert(2, 10)\n",
        "\n",
        "print(angka)"
      ],
      "metadata": {
        "colab": {
          "base_uri": "https://localhost:8080/"
        },
        "id": "9pXUUHaJIgam",
        "outputId": "25bf22a9-d95a-4484-b8b0-82b9b3b8d4a9"
      },
      "execution_count": 9,
      "outputs": [
        {
          "output_type": "stream",
          "name": "stdout",
          "text": [
            "[1, 2, 10, 3, 4, 5, 6, 'a', 'b', 'c', 'd', 'e']\n"
          ]
        }
      ]
    },
    {
      "cell_type": "code",
      "source": [
        "angka[2] = 20"
      ],
      "metadata": {
        "id": "ytgmjVe61_t4"
      },
      "execution_count": 10,
      "outputs": []
    },
    {
      "cell_type": "code",
      "source": [
        "print(angka)"
      ],
      "metadata": {
        "colab": {
          "base_uri": "https://localhost:8080/"
        },
        "id": "yvFrqGm-2TnW",
        "outputId": "500130b7-c299-412b-af66-8d4497824343"
      },
      "execution_count": 11,
      "outputs": [
        {
          "output_type": "stream",
          "name": "stdout",
          "text": [
            "[1, 2, 20, 3, 4, 5, 6, 'a', 'b', 'c', 'd', 'e']\n"
          ]
        }
      ]
    },
    {
      "cell_type": "markdown",
      "source": [
        "### Delete Element\n",
        "\n",
        "- `remove()` removes an item value from a list.\n",
        "- `pop()` removes the last (or specified) element while also returning the value.\n",
        "-`clear()` removes all item from the list. the output will be the empty list\n",
        "-`del list_name` delere the entire list"
      ],
      "metadata": {
        "id": "qqww3_8D_hoF"
      }
    },
    {
      "cell_type": "code",
      "source": [
        "#menggunakan remove\n",
        "\n",
        "angka.remove(20)\n",
        "print(angka)"
      ],
      "metadata": {
        "colab": {
          "base_uri": "https://localhost:8080/"
        },
        "id": "C2k5y6Ta_edl",
        "outputId": "45f08de2-8091-4111-949c-3b634bc782a0"
      },
      "execution_count": 12,
      "outputs": [
        {
          "output_type": "stream",
          "name": "stdout",
          "text": [
            "[1, 2, 3, 4, 5, 6, 'a', 'b', 'c', 'd', 'e']\n"
          ]
        }
      ]
    },
    {
      "cell_type": "code",
      "source": [
        "angka.pop(-1)\n",
        "print(angka)"
      ],
      "metadata": {
        "colab": {
          "base_uri": "https://localhost:8080/"
        },
        "id": "rNXmdLgWIhAC",
        "outputId": "cfabdccf-049d-4683-d391-945186be42cd"
      },
      "execution_count": 13,
      "outputs": [
        {
          "output_type": "stream",
          "name": "stdout",
          "text": [
            "[1, 2, 3, 4, 5, 6, 'a', 'b', 'c', 'd']\n"
          ]
        }
      ]
    },
    {
      "cell_type": "code",
      "source": [
        "angka.clear()\n",
        "print(angka)"
      ],
      "metadata": {
        "colab": {
          "base_uri": "https://localhost:8080/"
        },
        "id": "AB_hX-_JInwH",
        "outputId": "d6b98fe4-f87a-4e21-c3b4-a9404afec604"
      },
      "execution_count": 14,
      "outputs": [
        {
          "output_type": "stream",
          "name": "stdout",
          "text": [
            "[]\n"
          ]
        }
      ]
    },
    {
      "cell_type": "code",
      "source": [
        "print(angka)"
      ],
      "metadata": {
        "colab": {
          "base_uri": "https://localhost:8080/"
        },
        "id": "MBQ1I417AeWF",
        "outputId": "68d2be54-5469-44b2-827b-815342e5b24b"
      },
      "execution_count": 15,
      "outputs": [
        {
          "output_type": "stream",
          "name": "stdout",
          "text": [
            "[]\n"
          ]
        }
      ]
    },
    {
      "cell_type": "code",
      "source": [
        "del angka\n",
        "print(angka)"
      ],
      "metadata": {
        "colab": {
          "base_uri": "https://localhost:8080/",
          "height": 165
        },
        "id": "IdleMCVWInzm",
        "outputId": "e1feff7f-87ad-4744-b967-cb3068d3af93"
      },
      "execution_count": null,
      "outputs": [
        {
          "output_type": "error",
          "ename": "NameError",
          "evalue": "name 'angka' is not defined",
          "traceback": [
            "\u001b[0;31m---------------------------------------------------------------------------\u001b[0m",
            "\u001b[0;31mNameError\u001b[0m                                 Traceback (most recent call last)",
            "\u001b[0;32m/tmp/ipython-input-213733427.py\u001b[0m in \u001b[0;36m<cell line: 0>\u001b[0;34m()\u001b[0m\n\u001b[1;32m      1\u001b[0m \u001b[0;32mdel\u001b[0m \u001b[0mangka\u001b[0m\u001b[0;34m\u001b[0m\u001b[0;34m\u001b[0m\u001b[0m\n\u001b[0;32m----> 2\u001b[0;31m \u001b[0mprint\u001b[0m\u001b[0;34m(\u001b[0m\u001b[0mangka\u001b[0m\u001b[0;34m)\u001b[0m\u001b[0;34m\u001b[0m\u001b[0;34m\u001b[0m\u001b[0m\n\u001b[0m",
            "\u001b[0;31mNameError\u001b[0m: name 'angka' is not defined"
          ]
        }
      ]
    },
    {
      "cell_type": "markdown",
      "source": [
        "## 2. Tuple"
      ],
      "metadata": {
        "id": "jJ8s2ShrUzNA"
      }
    },
    {
      "cell_type": "code",
      "source": [
        "contoh_tuple = (1, 3, 5, 7, 9, 11, 'Akram', 'Charimah', False, True)"
      ],
      "metadata": {
        "id": "ptt0994GUw2a"
      },
      "execution_count": 16,
      "outputs": []
    },
    {
      "cell_type": "code",
      "source": [
        "print(contoh_tuple)"
      ],
      "metadata": {
        "colab": {
          "base_uri": "https://localhost:8080/"
        },
        "id": "UoD_XK2AU7Vf",
        "outputId": "36358df5-8838-4fa1-edfb-c503339e0651"
      },
      "execution_count": 17,
      "outputs": [
        {
          "output_type": "stream",
          "name": "stdout",
          "text": [
            "(1, 3, 5, 7, 9, 11, 'Akram', 'Charimah', False, True)\n"
          ]
        }
      ]
    },
    {
      "cell_type": "code",
      "source": [
        "contoh_tuple.append(4)"
      ],
      "metadata": {
        "colab": {
          "base_uri": "https://localhost:8080/",
          "height": 146
        },
        "id": "RMqJ76hsIUYs",
        "outputId": "256e2285-dc24-4782-bf5d-cd9a5117bd76"
      },
      "execution_count": 18,
      "outputs": [
        {
          "output_type": "error",
          "ename": "AttributeError",
          "evalue": "'tuple' object has no attribute 'append'",
          "traceback": [
            "\u001b[0;31m---------------------------------------------------------------------------\u001b[0m",
            "\u001b[0;31mAttributeError\u001b[0m                            Traceback (most recent call last)",
            "\u001b[0;32m/tmp/ipython-input-621916449.py\u001b[0m in \u001b[0;36m<cell line: 0>\u001b[0;34m()\u001b[0m\n\u001b[0;32m----> 1\u001b[0;31m \u001b[0mcontoh_tuple\u001b[0m\u001b[0;34m.\u001b[0m\u001b[0mappend\u001b[0m\u001b[0;34m(\u001b[0m\u001b[0;36m4\u001b[0m\u001b[0;34m)\u001b[0m\u001b[0;34m\u001b[0m\u001b[0;34m\u001b[0m\u001b[0m\n\u001b[0m",
            "\u001b[0;31mAttributeError\u001b[0m: 'tuple' object has no attribute 'append'"
          ]
        }
      ]
    },
    {
      "cell_type": "code",
      "source": [
        "contoh_tuple.remove('Akram')"
      ],
      "metadata": {
        "colab": {
          "base_uri": "https://localhost:8080/",
          "height": 146
        },
        "id": "iVMm6CybIc4u",
        "outputId": "0aefe308-b656-46f7-ea31-6f47ae2ebdeb"
      },
      "execution_count": 19,
      "outputs": [
        {
          "output_type": "error",
          "ename": "AttributeError",
          "evalue": "'tuple' object has no attribute 'remove'",
          "traceback": [
            "\u001b[0;31m---------------------------------------------------------------------------\u001b[0m",
            "\u001b[0;31mAttributeError\u001b[0m                            Traceback (most recent call last)",
            "\u001b[0;32m/tmp/ipython-input-2681015292.py\u001b[0m in \u001b[0;36m<cell line: 0>\u001b[0;34m()\u001b[0m\n\u001b[0;32m----> 1\u001b[0;31m \u001b[0mcontoh_tuple\u001b[0m\u001b[0;34m.\u001b[0m\u001b[0mremove\u001b[0m\u001b[0;34m(\u001b[0m\u001b[0;34m'Akram'\u001b[0m\u001b[0;34m)\u001b[0m\u001b[0;34m\u001b[0m\u001b[0;34m\u001b[0m\u001b[0m\n\u001b[0m",
            "\u001b[0;31mAttributeError\u001b[0m: 'tuple' object has no attribute 'remove'"
          ]
        }
      ]
    },
    {
      "cell_type": "markdown",
      "source": [
        "### Indexing"
      ],
      "metadata": {
        "id": "6Ex2_J7fyfjA"
      }
    },
    {
      "cell_type": "code",
      "source": [
        "# Misalkan kita akan mengambil elemen 'Rifqi' yang ada divariabel 'contoh_list' (dimulai dari kiri)\n",
        "contoh_list = [2, 4, 6, 8, 10, 12, 12, 12, 12, 'Rifqi', 'Uci', False, True]\n",
        "\n",
        "contoh_list[6]"
      ],
      "metadata": {
        "colab": {
          "base_uri": "https://localhost:8080/"
        },
        "id": "LOn4X9zIw1ls",
        "outputId": "90613661-7f42-4959-889b-968d8f0ed8a6"
      },
      "execution_count": 20,
      "outputs": [
        {
          "output_type": "execute_result",
          "data": {
            "text/plain": [
              "12"
            ]
          },
          "metadata": {},
          "execution_count": 20
        }
      ]
    },
    {
      "cell_type": "code",
      "source": [
        "contoh_list[-7]"
      ],
      "metadata": {
        "colab": {
          "base_uri": "https://localhost:8080/"
        },
        "id": "wxcWi7hwhf6T",
        "outputId": "78c873e8-8592-453f-c460-52cc30d1f82d"
      },
      "execution_count": 21,
      "outputs": [
        {
          "output_type": "execute_result",
          "data": {
            "text/plain": [
              "12"
            ]
          },
          "metadata": {},
          "execution_count": 21
        }
      ]
    },
    {
      "cell_type": "code",
      "source": [
        "# Misalkan kita akan mengambil elemen 'Rifqi' yang ada divariabel 'contoh_list' (dimulai dari kanan)\n",
        "\n",
        "contoh_list[-4]"
      ],
      "metadata": {
        "colab": {
          "base_uri": "https://localhost:8080/",
          "height": 36
        },
        "id": "xoCqbTAyySiI",
        "outputId": "e057d810-ee85-435a-e714-f24394f440f4"
      },
      "execution_count": 22,
      "outputs": [
        {
          "output_type": "execute_result",
          "data": {
            "text/plain": [
              "'Rifqi'"
            ],
            "application/vnd.google.colaboratory.intrinsic+json": {
              "type": "string"
            }
          },
          "metadata": {},
          "execution_count": 22
        }
      ]
    },
    {
      "cell_type": "code",
      "source": [
        "# Misalkan kita akan mengambil elemen 7 yang ada divariabel 'contoh_tuple' (dimulai dari kiri)\n",
        "\n",
        "contoh_tuple[3]"
      ],
      "metadata": {
        "colab": {
          "base_uri": "https://localhost:8080/"
        },
        "id": "LXuJkeAEyW7W",
        "outputId": "9df68008-e3bc-47ba-b704-ee9c5f55a4a0"
      },
      "execution_count": 23,
      "outputs": [
        {
          "output_type": "execute_result",
          "data": {
            "text/plain": [
              "7"
            ]
          },
          "metadata": {},
          "execution_count": 23
        }
      ]
    },
    {
      "cell_type": "code",
      "source": [
        "# Misalkan kita akan mengambil elemen 8 yang ada divariabel 'contoh_tuple' (dimulai dari kanan)\n",
        "\n",
        "contoh_tuple[-7]"
      ],
      "metadata": {
        "colab": {
          "base_uri": "https://localhost:8080/"
        },
        "id": "zP8PcXanzi5K",
        "outputId": "44c9347d-e3e8-415e-c815-49387226264d"
      },
      "execution_count": 24,
      "outputs": [
        {
          "output_type": "execute_result",
          "data": {
            "text/plain": [
              "7"
            ]
          },
          "metadata": {},
          "execution_count": 24
        }
      ]
    },
    {
      "cell_type": "markdown",
      "source": [
        "### Slicing\n",
        "\n",
        "Cara menggunakan slicing:\n",
        "\n",
        "```nama_variabel[start:end:step]```\n",
        "\n",
        "    start = tempat mulainya slicing\n",
        "\n",
        "    end = target posisi akhir + 1 (tambah satu karena biar include, karena angka yang dimasukkan adl batasan\n",
        "  \n",
        "\n",
        "    step = jumlah langkah"
      ],
      "metadata": {
        "id": "CHYJoRTuznsd"
      }
    },
    {
      "cell_type": "code",
      "source": [
        "contoh_list = [2, 4, 6, 8, 10, 12, 'Rifqi', 'Uci', False, True]\n",
        "contoh_tuple = (1, 3, 5, 7, 9, 11, 'Akram', 'Charimah', False, True)"
      ],
      "metadata": {
        "id": "ZzI1aNHZ1mG8"
      },
      "execution_count": 25,
      "outputs": []
    },
    {
      "cell_type": "code",
      "source": [
        "# 4, 10, \"Uci\""
      ],
      "metadata": {
        "id": "st67L9l4kOr5"
      },
      "execution_count": null,
      "outputs": []
    },
    {
      "cell_type": "code",
      "source": [
        "contoh_list[1:8:3]"
      ],
      "metadata": {
        "colab": {
          "base_uri": "https://localhost:8080/"
        },
        "id": "BqxqK31cFOHN",
        "outputId": "54ee545d-3b0d-44f0-b15a-3b49613db31d"
      },
      "execution_count": 26,
      "outputs": [
        {
          "output_type": "execute_result",
          "data": {
            "text/plain": [
              "[4, 10, 'Uci']"
            ]
          },
          "metadata": {},
          "execution_count": 26
        }
      ]
    },
    {
      "cell_type": "code",
      "source": [
        "d = contoh_list[0:-2:2]\n",
        "print(d)"
      ],
      "metadata": {
        "id": "_y0vHLcDitb_",
        "colab": {
          "base_uri": "https://localhost:8080/"
        },
        "outputId": "aadfc8e9-95b2-4402-983d-28ad431fd345"
      },
      "execution_count": 27,
      "outputs": [
        {
          "output_type": "stream",
          "name": "stdout",
          "text": [
            "[2, 6, 10, 'Rifqi']\n"
          ]
        }
      ]
    },
    {
      "cell_type": "code",
      "source": [
        "a = contoh_list[0:2:1]\n",
        "print(a)"
      ],
      "metadata": {
        "id": "dXdB2BhU9AuO",
        "colab": {
          "base_uri": "https://localhost:8080/"
        },
        "outputId": "b7dcfac8-40c3-4542-ca4b-949a227b5514"
      },
      "execution_count": 28,
      "outputs": [
        {
          "output_type": "stream",
          "name": "stdout",
          "text": [
            "[2, 4]\n"
          ]
        }
      ]
    },
    {
      "cell_type": "code",
      "source": [
        "a_2 = a = contoh_list[0:3:1]\n",
        "print(a_2)"
      ],
      "metadata": {
        "id": "Q1ZinPkviUcH",
        "colab": {
          "base_uri": "https://localhost:8080/"
        },
        "outputId": "b4868694-7d1b-4c78-9efa-8a9fcf215ffb"
      },
      "execution_count": null,
      "outputs": [
        {
          "output_type": "stream",
          "name": "stdout",
          "text": [
            "[2, 4, 6]\n"
          ]
        }
      ]
    },
    {
      "cell_type": "code",
      "source": [
        "b = contoh_list[6]"
      ],
      "metadata": {
        "id": "Hnq6pcAoABkS"
      },
      "execution_count": 29,
      "outputs": []
    },
    {
      "cell_type": "code",
      "source": [
        "a.append(b)"
      ],
      "metadata": {
        "id": "RzmgECJ-AEEo"
      },
      "execution_count": 30,
      "outputs": []
    },
    {
      "cell_type": "code",
      "source": [
        "print(a)"
      ],
      "metadata": {
        "id": "TWGG_ruzAFqY",
        "colab": {
          "base_uri": "https://localhost:8080/"
        },
        "outputId": "c25d442d-664d-4b82-848a-893201b0bb4f"
      },
      "execution_count": 31,
      "outputs": [
        {
          "output_type": "stream",
          "name": "stdout",
          "text": [
            "[2, 4, 'Rifqi']\n"
          ]
        }
      ]
    },
    {
      "cell_type": "code",
      "source": [
        "contoh_list[0]\n"
      ],
      "metadata": {
        "id": "x431gnnY7qE1",
        "colab": {
          "base_uri": "https://localhost:8080/"
        },
        "outputId": "0d4c5c59-5125-4978-a547-7373c8fdaf7b"
      },
      "execution_count": 33,
      "outputs": [
        {
          "output_type": "execute_result",
          "data": {
            "text/plain": [
              "2"
            ]
          },
          "metadata": {},
          "execution_count": 33
        }
      ]
    },
    {
      "cell_type": "code",
      "source": [
        "contoh_list[1]\n"
      ],
      "metadata": {
        "id": "ALVH2xHf7zeu",
        "colab": {
          "base_uri": "https://localhost:8080/"
        },
        "outputId": "6343f40c-b6fb-4b37-e892-bebdd5408390"
      },
      "execution_count": 34,
      "outputs": [
        {
          "output_type": "execute_result",
          "data": {
            "text/plain": [
              "4"
            ]
          },
          "metadata": {},
          "execution_count": 34
        }
      ]
    },
    {
      "cell_type": "code",
      "source": [
        "contoh_list[6]"
      ],
      "metadata": {
        "id": "X_aH2-AQ71CO",
        "colab": {
          "base_uri": "https://localhost:8080/",
          "height": 36
        },
        "outputId": "31c3e5b1-826d-4138-ae9d-0c2f3dd8c3d0"
      },
      "execution_count": 35,
      "outputs": [
        {
          "output_type": "execute_result",
          "data": {
            "text/plain": [
              "'Rifqi'"
            ],
            "application/vnd.google.colaboratory.intrinsic+json": {
              "type": "string"
            }
          },
          "metadata": {},
          "execution_count": 35
        }
      ]
    },
    {
      "cell_type": "code",
      "source": [
        "contoh_list[2:7:1]"
      ],
      "metadata": {
        "id": "1N58omcB46Jr",
        "colab": {
          "base_uri": "https://localhost:8080/"
        },
        "outputId": "38fcd2ea-67a2-4ecf-b094-567ce966e664"
      },
      "execution_count": 36,
      "outputs": [
        {
          "output_type": "execute_result",
          "data": {
            "text/plain": [
              "[6, 8, 10, 12, 'Rifqi']"
            ]
          },
          "metadata": {},
          "execution_count": 36
        }
      ]
    },
    {
      "cell_type": "code",
      "source": [
        "# Misalkan kita akan mengambil elemen 6, 8, 10, 12, 'Rifqi', 'Uci'\n",
        "start = 2\n",
        "end = 8\n",
        "\n",
        "contoh_list[2:8:2]"
      ],
      "metadata": {
        "id": "8OjW7JTbzpZX",
        "colab": {
          "base_uri": "https://localhost:8080/"
        },
        "outputId": "8fdda70c-6738-4782-8db9-c15357dea3d0"
      },
      "execution_count": 37,
      "outputs": [
        {
          "output_type": "execute_result",
          "data": {
            "text/plain": [
              "[6, 10, 'Rifqi']"
            ]
          },
          "metadata": {},
          "execution_count": 37
        }
      ]
    },
    {
      "cell_type": "code",
      "source": [
        "# Misalkan kita akan mengambil elemen 2, 6, 10, 'Rifqi', False\n",
        "\n",
        "contoh_list[0:9:2]"
      ],
      "metadata": {
        "id": "AxLOkN9Lzpbh",
        "colab": {
          "base_uri": "https://localhost:8080/"
        },
        "outputId": "abe9f81d-e611-4f01-9f24-82101f4dc6b3"
      },
      "execution_count": 38,
      "outputs": [
        {
          "output_type": "execute_result",
          "data": {
            "text/plain": [
              "[2, 6, 10, 'Rifqi', False]"
            ]
          },
          "metadata": {},
          "execution_count": 38
        }
      ]
    },
    {
      "cell_type": "code",
      "source": [
        "# Misalkan kita akan mengambil elemen dari kanan\n",
        "\n",
        "contoh_tuple[-1:-5:-1]"
      ],
      "metadata": {
        "id": "UNpnDoFRzpeF",
        "colab": {
          "base_uri": "https://localhost:8080/"
        },
        "outputId": "eb763b97-0af6-4489-bb97-23e376b5f0ed"
      },
      "execution_count": 39,
      "outputs": [
        {
          "output_type": "execute_result",
          "data": {
            "text/plain": [
              "(True, False, 'Charimah', 'Akram')"
            ]
          },
          "metadata": {},
          "execution_count": 39
        }
      ]
    },
    {
      "cell_type": "code",
      "source": [
        "contoh_tuple[-1:-5:1]"
      ],
      "metadata": {
        "id": "8SlG6wslzphD",
        "colab": {
          "base_uri": "https://localhost:8080/"
        },
        "outputId": "da9842d5-a657-43fb-ae10-f1a93544138a"
      },
      "execution_count": 40,
      "outputs": [
        {
          "output_type": "execute_result",
          "data": {
            "text/plain": [
              "()"
            ]
          },
          "metadata": {},
          "execution_count": 40
        }
      ]
    },
    {
      "cell_type": "markdown",
      "source": [
        "## 3. Set"
      ],
      "metadata": {
        "id": "St6WrdcnU_oI"
      }
    },
    {
      "cell_type": "code",
      "source": [
        "contoh_set = {1, 2, 10, 1, 9, 5, 5, 4, 'Muhammad', 'Rifqi', 'Akram'}"
      ],
      "metadata": {
        "id": "pmJfAOSBU8tG"
      },
      "execution_count": 41,
      "outputs": []
    },
    {
      "cell_type": "code",
      "source": [
        "contoh_set"
      ],
      "metadata": {
        "colab": {
          "base_uri": "https://localhost:8080/"
        },
        "id": "ac7Gd1qiAOd6",
        "outputId": "fecd5b8c-485c-4579-c22c-2907d46bd376"
      },
      "execution_count": 42,
      "outputs": [
        {
          "output_type": "execute_result",
          "data": {
            "text/plain": [
              "{1, 10, 2, 4, 5, 9, 'Akram', 'Muhammad', 'Rifqi'}"
            ]
          },
          "metadata": {},
          "execution_count": 42
        }
      ]
    },
    {
      "cell_type": "code",
      "source": [
        "contoh_set[0]"
      ],
      "metadata": {
        "colab": {
          "base_uri": "https://localhost:8080/",
          "height": 146
        },
        "id": "3aa97PBnAkOT",
        "outputId": "ccb8427f-ca49-4b08-c950-95e11db7649b"
      },
      "execution_count": 43,
      "outputs": [
        {
          "output_type": "error",
          "ename": "TypeError",
          "evalue": "'set' object is not subscriptable",
          "traceback": [
            "\u001b[0;31m---------------------------------------------------------------------------\u001b[0m",
            "\u001b[0;31mTypeError\u001b[0m                                 Traceback (most recent call last)",
            "\u001b[0;32m/tmp/ipython-input-2219258781.py\u001b[0m in \u001b[0;36m<cell line: 0>\u001b[0;34m()\u001b[0m\n\u001b[0;32m----> 1\u001b[0;31m \u001b[0mcontoh_set\u001b[0m\u001b[0;34m[\u001b[0m\u001b[0;36m0\u001b[0m\u001b[0;34m]\u001b[0m\u001b[0;34m\u001b[0m\u001b[0;34m\u001b[0m\u001b[0m\n\u001b[0m",
            "\u001b[0;31mTypeError\u001b[0m: 'set' object is not subscriptable"
          ]
        }
      ]
    },
    {
      "cell_type": "code",
      "source": [
        "# mengubah set menjadi list\n",
        "\n",
        "set_to_list = list(contoh_set)\n",
        "set_to_list"
      ],
      "metadata": {
        "id": "n33FjKB4A7iT",
        "colab": {
          "base_uri": "https://localhost:8080/"
        },
        "outputId": "f791bc5f-688a-4fcc-da6c-18d220dba5fa"
      },
      "execution_count": 44,
      "outputs": [
        {
          "output_type": "execute_result",
          "data": {
            "text/plain": [
              "[1, 2, 'Muhammad', 4, 5, 9, 10, 'Akram', 'Rifqi']"
            ]
          },
          "metadata": {},
          "execution_count": 44
        }
      ]
    },
    {
      "cell_type": "code",
      "source": [
        "set_to_list[2]"
      ],
      "metadata": {
        "id": "i5p3WASOFn6T",
        "colab": {
          "base_uri": "https://localhost:8080/",
          "height": 36
        },
        "outputId": "04a4ff46-246e-4184-a1b2-39af9453eb46"
      },
      "execution_count": 45,
      "outputs": [
        {
          "output_type": "execute_result",
          "data": {
            "text/plain": [
              "'Muhammad'"
            ],
            "application/vnd.google.colaboratory.intrinsic+json": {
              "type": "string"
            }
          },
          "metadata": {},
          "execution_count": 45
        }
      ]
    },
    {
      "cell_type": "code",
      "source": [
        "# Menambahkan element di set\n",
        "\n",
        "contoh_set.add('Nama')\n",
        "\n",
        "contoh_set"
      ],
      "metadata": {
        "id": "L9sXabHJXl72",
        "colab": {
          "base_uri": "https://localhost:8080/"
        },
        "outputId": "a6887233-af9e-4796-8423-e426fb21b1fe"
      },
      "execution_count": 46,
      "outputs": [
        {
          "output_type": "execute_result",
          "data": {
            "text/plain": [
              "{1, 10, 2, 4, 5, 9, 'Akram', 'Muhammad', 'Nama', 'Rifqi'}"
            ]
          },
          "metadata": {},
          "execution_count": 46
        }
      ]
    },
    {
      "cell_type": "code",
      "source": [
        "# Menghapus element di set menggunakan remove\n",
        "\n",
        "contoh_set.remove('Akram')\n",
        "\n",
        "contoh_set"
      ],
      "metadata": {
        "id": "qpI6Vnn0XxT9",
        "colab": {
          "base_uri": "https://localhost:8080/"
        },
        "outputId": "a4304611-2169-4f68-b36c-9d24381944e7"
      },
      "execution_count": 47,
      "outputs": [
        {
          "output_type": "execute_result",
          "data": {
            "text/plain": [
              "{1, 10, 2, 4, 5, 9, 'Muhammad', 'Nama', 'Rifqi'}"
            ]
          },
          "metadata": {},
          "execution_count": 47
        }
      ]
    },
    {
      "cell_type": "code",
      "source": [
        "# Menghapus elemen di set menggunakan pop\n",
        "\n",
        "contoh_set.pop()\n",
        "\n",
        "contoh_set"
      ],
      "metadata": {
        "id": "HpzE9tKiBOgl",
        "colab": {
          "base_uri": "https://localhost:8080/"
        },
        "outputId": "eb0333c4-14c5-49ce-eaca-e47ed7ac5e43"
      },
      "execution_count": 48,
      "outputs": [
        {
          "output_type": "execute_result",
          "data": {
            "text/plain": [
              "{10, 2, 4, 5, 9, 'Muhammad', 'Nama', 'Rifqi'}"
            ]
          },
          "metadata": {},
          "execution_count": 48
        }
      ]
    },
    {
      "cell_type": "code",
      "source": [
        "# Menghapus elemen di set menggunakan pop\n",
        "\n",
        "contoh_set.pop()\n",
        "\n",
        "contoh_set"
      ],
      "metadata": {
        "id": "a04Tv8CEBiA0",
        "colab": {
          "base_uri": "https://localhost:8080/"
        },
        "outputId": "5a00931c-f246-47ee-8377-11800e88bb11"
      },
      "execution_count": 49,
      "outputs": [
        {
          "output_type": "execute_result",
          "data": {
            "text/plain": [
              "{10, 4, 5, 9, 'Muhammad', 'Nama', 'Rifqi'}"
            ]
          },
          "metadata": {},
          "execution_count": 49
        }
      ]
    },
    {
      "cell_type": "code",
      "source": [
        "my_list = [1, 2, 3, 4]\n",
        "\n",
        "my_list.pop(1)\n",
        "\n",
        "print(my_list)\n"
      ],
      "metadata": {
        "id": "Eu7h2ydEBcu6",
        "colab": {
          "base_uri": "https://localhost:8080/"
        },
        "outputId": "642e48c6-0873-4667-a3f8-7673ae70f20a"
      },
      "execution_count": 50,
      "outputs": [
        {
          "output_type": "stream",
          "name": "stdout",
          "text": [
            "[1, 3, 4]\n"
          ]
        }
      ]
    },
    {
      "cell_type": "markdown",
      "source": [
        "## 4. Dictionary"
      ],
      "metadata": {
        "id": "vI5RJOVkXCbZ"
      }
    },
    {
      "cell_type": "code",
      "source": [
        "data_student = { \"nama\":\"Rifqi\" ,\n",
        "                \"umur\": 35 ,\n",
        "                 \"pekerjaan\": ('Data Scientist', 'ML Engineer')\n",
        "                 }"
      ],
      "metadata": {
        "id": "VAC6yoQ4BUdK"
      },
      "execution_count": 51,
      "outputs": []
    },
    {
      "cell_type": "code",
      "source": [
        "data_student['pekerjaan'] = \"Data Analyst\"\n",
        "data_student"
      ],
      "metadata": {
        "colab": {
          "base_uri": "https://localhost:8080/"
        },
        "id": "YD5Ut6HPYdq-",
        "outputId": "894f3584-ed39-4b93-fb56-2455743843a0"
      },
      "execution_count": 52,
      "outputs": [
        {
          "output_type": "execute_result",
          "data": {
            "text/plain": [
              "{'nama': 'Rifqi', 'umur': 35, 'pekerjaan': 'Data Analyst'}"
            ]
          },
          "metadata": {},
          "execution_count": 52
        }
      ]
    },
    {
      "cell_type": "markdown",
      "source": [
        "Quiz Singkat:\n",
        "```\n",
        "Bukankah tuple immutable, kenapa pada kode diatas tuple dapat diubah?\n",
        "```"
      ],
      "metadata": {
        "id": "jG39AEe-Gau4"
      }
    },
    {
      "cell_type": "code",
      "source": [
        "# Mengakses value menggunakan key\n",
        "\n",
        "data_student[\"umur\"]"
      ],
      "metadata": {
        "colab": {
          "base_uri": "https://localhost:8080/"
        },
        "id": "mkxJki6XYeev",
        "outputId": "3f5e5146-2b8e-450f-d1b3-ce54d133d603"
      },
      "execution_count": 53,
      "outputs": [
        {
          "output_type": "execute_result",
          "data": {
            "text/plain": [
              "35"
            ]
          },
          "metadata": {},
          "execution_count": 53
        }
      ]
    },
    {
      "cell_type": "code",
      "source": [
        "# Mengakses value menggunakan get()\n",
        "\n",
        "data_student.get(\"nama\")"
      ],
      "metadata": {
        "colab": {
          "base_uri": "https://localhost:8080/",
          "height": 36
        },
        "id": "FUDwD2O_ZFF2",
        "outputId": "eb25ce60-1b29-4eb4-a5bf-64dec5793636"
      },
      "execution_count": 54,
      "outputs": [
        {
          "output_type": "execute_result",
          "data": {
            "text/plain": [
              "'Rifqi'"
            ],
            "application/vnd.google.colaboratory.intrinsic+json": {
              "type": "string"
            }
          },
          "metadata": {},
          "execution_count": 54
        }
      ]
    },
    {
      "cell_type": "code",
      "source": [
        "# Mengakses seluruh key\n",
        "\n",
        "data_student.keys()"
      ],
      "metadata": {
        "colab": {
          "base_uri": "https://localhost:8080/"
        },
        "id": "NypBaMQcaDW7",
        "outputId": "8b6d3d58-e393-4545-b62a-27a71578afbc"
      },
      "execution_count": 56,
      "outputs": [
        {
          "output_type": "execute_result",
          "data": {
            "text/plain": [
              "dict_keys(['nama', 'umur', 'pekerjaan'])"
            ]
          },
          "metadata": {},
          "execution_count": 56
        }
      ]
    },
    {
      "cell_type": "code",
      "source": [
        "# Mengakses seluruh value\n",
        "\n",
        "data_student.values()"
      ],
      "metadata": {
        "id": "j3RJjGoQaR3-",
        "colab": {
          "base_uri": "https://localhost:8080/"
        },
        "outputId": "cd2e3c41-d015-4cb3-d511-7af6d520451b"
      },
      "execution_count": 57,
      "outputs": [
        {
          "output_type": "execute_result",
          "data": {
            "text/plain": [
              "dict_values(['Rifqi', 35, 'Data Analyst'])"
            ]
          },
          "metadata": {},
          "execution_count": 57
        }
      ]
    },
    {
      "cell_type": "code",
      "source": [
        "# Mengakses seluruh key-value\n",
        "\n",
        "data_student.items()"
      ],
      "metadata": {
        "id": "mzXFxwlBaV8g",
        "colab": {
          "base_uri": "https://localhost:8080/"
        },
        "outputId": "ff051e9e-ae7c-4501-ee23-ffe1f1fb06ad"
      },
      "execution_count": 58,
      "outputs": [
        {
          "output_type": "execute_result",
          "data": {
            "text/plain": [
              "dict_items([('nama', 'Rifqi'), ('umur', 35), ('pekerjaan', 'Data Analyst')])"
            ]
          },
          "metadata": {},
          "execution_count": 58
        }
      ]
    },
    {
      "cell_type": "code",
      "source": [
        "# Menambahkan data dictionary\n",
        "\n",
        "# Cara 1\n",
        "data_student[\"hobi\"] = \"Ngoding\"\n",
        "\n",
        "# Cara 2\n",
        "data_student.update({'Tinggi' : 170})\n",
        "\n",
        "data_student"
      ],
      "metadata": {
        "id": "J8hTyVWbadu3",
        "colab": {
          "base_uri": "https://localhost:8080/"
        },
        "outputId": "66ff12b9-f1b8-4aff-c26e-43df31cee7ac"
      },
      "execution_count": 59,
      "outputs": [
        {
          "output_type": "execute_result",
          "data": {
            "text/plain": [
              "{'nama': 'Rifqi',\n",
              " 'umur': 35,\n",
              " 'pekerjaan': 'Data Analyst',\n",
              " 'hobi': 'Ngoding',\n",
              " 'Tinggi': 170}"
            ]
          },
          "metadata": {},
          "execution_count": 59
        }
      ]
    },
    {
      "cell_type": "code",
      "source": [
        "# Menghapus key\n",
        "\n",
        "data_student.pop('hobi')\n",
        "data_student"
      ],
      "metadata": {
        "id": "qo05ctiEa9KU",
        "colab": {
          "base_uri": "https://localhost:8080/"
        },
        "outputId": "618fd8ab-301b-4c22-8a84-f513a81fe95e"
      },
      "execution_count": 60,
      "outputs": [
        {
          "output_type": "execute_result",
          "data": {
            "text/plain": [
              "{'nama': 'Rifqi', 'umur': 35, 'pekerjaan': 'Data Analyst', 'Tinggi': 170}"
            ]
          },
          "metadata": {},
          "execution_count": 60
        }
      ]
    },
    {
      "cell_type": "code",
      "source": [
        "# menambah value pada key\n",
        "\n",
        "data_student['pekerjaan'].append('Data Analyst')"
      ],
      "metadata": {
        "id": "Rm9owrDRnyny",
        "colab": {
          "base_uri": "https://localhost:8080/",
          "height": 183
        },
        "outputId": "80046590-dc1b-4538-925f-c21d681956ef"
      },
      "execution_count": 61,
      "outputs": [
        {
          "output_type": "error",
          "ename": "AttributeError",
          "evalue": "'str' object has no attribute 'append'",
          "traceback": [
            "\u001b[0;31m---------------------------------------------------------------------------\u001b[0m",
            "\u001b[0;31mAttributeError\u001b[0m                            Traceback (most recent call last)",
            "\u001b[0;32m/tmp/ipython-input-2984675358.py\u001b[0m in \u001b[0;36m<cell line: 0>\u001b[0;34m()\u001b[0m\n\u001b[1;32m      1\u001b[0m \u001b[0;31m# menambah value pada key\u001b[0m\u001b[0;34m\u001b[0m\u001b[0;34m\u001b[0m\u001b[0m\n\u001b[1;32m      2\u001b[0m \u001b[0;34m\u001b[0m\u001b[0m\n\u001b[0;32m----> 3\u001b[0;31m \u001b[0mdata_student\u001b[0m\u001b[0;34m[\u001b[0m\u001b[0;34m'pekerjaan'\u001b[0m\u001b[0;34m]\u001b[0m\u001b[0;34m.\u001b[0m\u001b[0mappend\u001b[0m\u001b[0;34m(\u001b[0m\u001b[0;34m'Data Analyst'\u001b[0m\u001b[0;34m)\u001b[0m\u001b[0;34m\u001b[0m\u001b[0;34m\u001b[0m\u001b[0m\n\u001b[0m",
            "\u001b[0;31mAttributeError\u001b[0m: 'str' object has no attribute 'append'"
          ]
        }
      ]
    },
    {
      "cell_type": "code",
      "source": [
        "data_student"
      ],
      "metadata": {
        "id": "HKmZPMNCn-3a",
        "colab": {
          "base_uri": "https://localhost:8080/"
        },
        "outputId": "4ed93f87-b28e-411e-bd3d-85779b7e2392"
      },
      "execution_count": 62,
      "outputs": [
        {
          "output_type": "execute_result",
          "data": {
            "text/plain": [
              "{'nama': 'Rifqi', 'umur': 35, 'pekerjaan': 'Data Analyst', 'Tinggi': 170}"
            ]
          },
          "metadata": {},
          "execution_count": 62
        }
      ]
    },
    {
      "cell_type": "code",
      "source": [
        "data_student['nama'].append('Sidiq')"
      ],
      "metadata": {
        "id": "PCfe7lPHqr5T",
        "colab": {
          "base_uri": "https://localhost:8080/",
          "height": 146
        },
        "outputId": "fc4af820-06c9-459f-d4cb-95f2592f7e7a"
      },
      "execution_count": null,
      "outputs": [
        {
          "output_type": "error",
          "ename": "AttributeError",
          "evalue": "'str' object has no attribute 'append'",
          "traceback": [
            "\u001b[0;31m---------------------------------------------------------------------------\u001b[0m",
            "\u001b[0;31mAttributeError\u001b[0m                            Traceback (most recent call last)",
            "\u001b[0;32m/tmp/ipython-input-2942354221.py\u001b[0m in \u001b[0;36m<cell line: 0>\u001b[0;34m()\u001b[0m\n\u001b[0;32m----> 1\u001b[0;31m \u001b[0mdata_student\u001b[0m\u001b[0;34m[\u001b[0m\u001b[0;34m'nama'\u001b[0m\u001b[0;34m]\u001b[0m\u001b[0;34m.\u001b[0m\u001b[0mappend\u001b[0m\u001b[0;34m(\u001b[0m\u001b[0;34m'Sidiq'\u001b[0m\u001b[0;34m)\u001b[0m\u001b[0;34m\u001b[0m\u001b[0;34m\u001b[0m\u001b[0m\n\u001b[0m",
            "\u001b[0;31mAttributeError\u001b[0m: 'str' object has no attribute 'append'"
          ]
        }
      ]
    },
    {
      "cell_type": "code",
      "source": [
        "data_student.update({'Makanan Kesukaan' : ['Nasi padang', 'mie goreng']})"
      ],
      "metadata": {
        "id": "w2h-wQj3F_cy"
      },
      "execution_count": 63,
      "outputs": []
    },
    {
      "cell_type": "code",
      "source": [
        "data_student"
      ],
      "metadata": {
        "id": "xob2erdwGLgs",
        "colab": {
          "base_uri": "https://localhost:8080/"
        },
        "outputId": "7cb36ed9-1828-4cdd-f3bb-7f41804c38be"
      },
      "execution_count": 64,
      "outputs": [
        {
          "output_type": "execute_result",
          "data": {
            "text/plain": [
              "{'nama': 'Rifqi',\n",
              " 'umur': 35,\n",
              " 'pekerjaan': 'Data Analyst',\n",
              " 'Tinggi': 170,\n",
              " 'Makanan Kesukaan': ['Nasi padang', 'mie goreng']}"
            ]
          },
          "metadata": {},
          "execution_count": 64
        }
      ]
    },
    {
      "cell_type": "code",
      "source": [
        "data_student['Makanan Kesukaan'].extend(['Tempe goreng', 'Ayam goreng'])\n",
        "data_student"
      ],
      "metadata": {
        "id": "AiRzgEo8oZop",
        "colab": {
          "base_uri": "https://localhost:8080/"
        },
        "outputId": "b9ac41c3-1cec-469b-d625-21fb98bf21d2"
      },
      "execution_count": 65,
      "outputs": [
        {
          "output_type": "execute_result",
          "data": {
            "text/plain": [
              "{'nama': 'Rifqi',\n",
              " 'umur': 35,\n",
              " 'pekerjaan': 'Data Analyst',\n",
              " 'Tinggi': 170,\n",
              " 'Makanan Kesukaan': ['Nasi padang',\n",
              "  'mie goreng',\n",
              "  'Tempe goreng',\n",
              "  'Ayam goreng']}"
            ]
          },
          "metadata": {},
          "execution_count": 65
        }
      ]
    },
    {
      "cell_type": "code",
      "source": [
        "data = {\n",
        "    \"identitas\" : {\n",
        "        \"nama\" : \"Rifqi\",\n",
        "        \"batch\" : 35,\n",
        "        \"bootcamp\" : \"Data Science\"\n",
        "    },\n",
        "    \"kontak\": {\n",
        "        \"WA\" : \"08123456789\",\n",
        "        \"email\" : \"rifqi.akram@dibimbing.id\"\n",
        "    }\n",
        "}"
      ],
      "metadata": {
        "id": "ahDlUh-dbuGt"
      },
      "execution_count": 66,
      "outputs": []
    },
    {
      "cell_type": "code",
      "source": [
        "# menambahkan \"alamat\" kedalam dictionary \"data\"\n",
        "\n",
        "data[\"alamat\"] = \"Jl. Kebon Jeruk No. 42, Jakarta\""
      ],
      "metadata": {
        "id": "TNSZUcX5cE6F"
      },
      "execution_count": 67,
      "outputs": []
    },
    {
      "cell_type": "code",
      "source": [
        "data"
      ],
      "metadata": {
        "colab": {
          "base_uri": "https://localhost:8080/"
        },
        "id": "82EFLHl0fHSj",
        "outputId": "6aac2e9e-3009-4acc-ed1f-911ffcadd700"
      },
      "execution_count": 68,
      "outputs": [
        {
          "output_type": "execute_result",
          "data": {
            "text/plain": [
              "{'identitas': {'nama': 'Rifqi', 'batch': 35, 'bootcamp': 'Data Science'},\n",
              " 'kontak': {'WA': '08123456789', 'email': 'rifqi.akram@dibimbing.id'},\n",
              " 'alamat': 'Jl. Kebon Jeruk No. 42, Jakarta'}"
            ]
          },
          "metadata": {},
          "execution_count": 68
        }
      ]
    },
    {
      "cell_type": "code",
      "source": [
        "# menambahkan \"alamat\" didalam sub-dictionary \"identitas\"\n",
        "# variabel_dict['sub-dictionary']['key_baru'] = value\n",
        "\n",
        "data[\"identitas\"][\"alamat\"] = \"Jl. Kebon Jeruk No. 42, Jakarta\""
      ],
      "metadata": {
        "id": "o_pHIjUrfgqP"
      },
      "execution_count": 69,
      "outputs": []
    },
    {
      "cell_type": "code",
      "source": [
        "data"
      ],
      "metadata": {
        "colab": {
          "base_uri": "https://localhost:8080/"
        },
        "id": "C1hitNkjfiDm",
        "outputId": "6ace7c4a-31a6-4248-dfba-ddc835f76d71"
      },
      "execution_count": 70,
      "outputs": [
        {
          "output_type": "execute_result",
          "data": {
            "text/plain": [
              "{'identitas': {'nama': 'Rifqi',\n",
              "  'batch': 35,\n",
              "  'bootcamp': 'Data Science',\n",
              "  'alamat': 'Jl. Kebon Jeruk No. 42, Jakarta'},\n",
              " 'kontak': {'WA': '08123456789', 'email': 'rifqi.akram@dibimbing.id'},\n",
              " 'alamat': 'Jl. Kebon Jeruk No. 42, Jakarta'}"
            ]
          },
          "metadata": {},
          "execution_count": 70
        }
      ]
    },
    {
      "cell_type": "markdown",
      "source": [
        "Perhatikan bahwa sekarang alamat ada didalam sub-dictionary `identitas`"
      ],
      "metadata": {
        "id": "GvOWN5QsflKu"
      }
    },
    {
      "cell_type": "code",
      "source": [
        "# menghapus \"alamat\" dari dictionary \"data\"\n",
        "\n",
        "del data[\"alamat\"]"
      ],
      "metadata": {
        "id": "suxGR9vafiFs"
      },
      "execution_count": 71,
      "outputs": []
    },
    {
      "cell_type": "code",
      "source": [
        "data"
      ],
      "metadata": {
        "colab": {
          "base_uri": "https://localhost:8080/"
        },
        "id": "XDsJXCwcf9CC",
        "outputId": "69165e9c-c453-4613-c651-2a74b2d050cf"
      },
      "execution_count": 72,
      "outputs": [
        {
          "output_type": "execute_result",
          "data": {
            "text/plain": [
              "{'identitas': {'nama': 'Rifqi',\n",
              "  'batch': 35,\n",
              "  'bootcamp': 'Data Science',\n",
              "  'alamat': 'Jl. Kebon Jeruk No. 42, Jakarta'},\n",
              " 'kontak': {'WA': '08123456789', 'email': 'rifqi.akram@dibimbing.id'}}"
            ]
          },
          "metadata": {},
          "execution_count": 72
        }
      ]
    },
    {
      "cell_type": "markdown",
      "source": [
        "# **FUNCTION**"
      ],
      "metadata": {
        "id": "sPJjtdIacsWP"
      }
    },
    {
      "cell_type": "markdown",
      "source": [
        "### Function non Parameter"
      ],
      "metadata": {
        "id": "cNgn32gtdAg2"
      }
    },
    {
      "cell_type": "code",
      "source": [
        "def sapa():\n",
        "    print(\"Hello, there!\")\n",
        "    print(\"Welcome to our program in Data Science batch 35.\")"
      ],
      "metadata": {
        "id": "Xou2qHKDcrmH"
      },
      "execution_count": 73,
      "outputs": []
    },
    {
      "cell_type": "code",
      "source": [
        "# Panggil function sapa()\n",
        "\n",
        "sapa()"
      ],
      "metadata": {
        "id": "ap4-rrWgbqXE",
        "colab": {
          "base_uri": "https://localhost:8080/"
        },
        "outputId": "fe55862d-7d92-4366-ea5d-57bc51ad2fe8"
      },
      "execution_count": 74,
      "outputs": [
        {
          "output_type": "stream",
          "name": "stdout",
          "text": [
            "Hello, there!\n",
            "Welcome to our program in Data Science batch 35.\n"
          ]
        }
      ]
    },
    {
      "cell_type": "markdown",
      "source": [
        "### Function with Parameter"
      ],
      "metadata": {
        "id": "6mVh1AMnd5MC"
      }
    },
    {
      "cell_type": "code",
      "source": [
        "def sapa(nama):\n",
        "  print(f\"Hello, {nama}!\")\n",
        "  print(\"Welcome to our program in Data Science batch 35.\")"
      ],
      "metadata": {
        "id": "wZZVGqaRdTSj"
      },
      "execution_count": 75,
      "outputs": []
    },
    {
      "cell_type": "code",
      "source": [
        "# Panggil function dengan mengisi parameter nama\n",
        "\n",
        "sapa(nama = 'Rifqi')"
      ],
      "metadata": {
        "id": "keZpHvyPemfc",
        "colab": {
          "base_uri": "https://localhost:8080/",
          "height": 183
        },
        "outputId": "3d76e80b-4514-4d1a-eaaa-8b1b7d96cd63"
      },
      "execution_count": 77,
      "outputs": [
        {
          "output_type": "error",
          "ename": "TypeError",
          "evalue": "sapa() missing 2 required positional arguments: 'batch' and 'bootcamp'",
          "traceback": [
            "\u001b[0;31m---------------------------------------------------------------------------\u001b[0m",
            "\u001b[0;31mTypeError\u001b[0m                                 Traceback (most recent call last)",
            "\u001b[0;32m/tmp/ipython-input-3098779290.py\u001b[0m in \u001b[0;36m<cell line: 0>\u001b[0;34m()\u001b[0m\n\u001b[1;32m      1\u001b[0m \u001b[0;31m# Panggil function dengan mengisi parameter nama\u001b[0m\u001b[0;34m\u001b[0m\u001b[0;34m\u001b[0m\u001b[0m\n\u001b[1;32m      2\u001b[0m \u001b[0;34m\u001b[0m\u001b[0m\n\u001b[0;32m----> 3\u001b[0;31m \u001b[0msapa\u001b[0m\u001b[0;34m(\u001b[0m\u001b[0mnama\u001b[0m \u001b[0;34m=\u001b[0m \u001b[0;34m'Rifqi'\u001b[0m\u001b[0;34m)\u001b[0m\u001b[0;34m\u001b[0m\u001b[0;34m\u001b[0m\u001b[0m\n\u001b[0m",
            "\u001b[0;31mTypeError\u001b[0m: sapa() missing 2 required positional arguments: 'batch' and 'bootcamp'"
          ]
        }
      ]
    },
    {
      "cell_type": "code",
      "source": [
        "def sapa(nama, batch, bootcamp):\n",
        "  print(f\"Hello, {nama}!\")\n",
        "  print(f\"Welcome to our program in {bootcamp} batch {batch}.\")"
      ],
      "metadata": {
        "id": "C7DlvSDTuaOG"
      },
      "execution_count": 78,
      "outputs": []
    },
    {
      "cell_type": "code",
      "source": [
        "sapa(nama = 'Rifqi', batch = 30, bootcamp = \"AI Engineer\")"
      ],
      "metadata": {
        "id": "ib7lnFNCus76",
        "colab": {
          "base_uri": "https://localhost:8080/"
        },
        "outputId": "81755ba0-86d0-4718-f71e-6d24e7c048d7"
      },
      "execution_count": 84,
      "outputs": [
        {
          "output_type": "stream",
          "name": "stdout",
          "text": [
            "Hello, Rifqi!\n",
            "Welcome to our program in AI Engineer batch 30.\n"
          ]
        }
      ]
    },
    {
      "cell_type": "code",
      "source": [
        "def luas_persegi(panjang, lebar):\n",
        "  luas = panjang * lebar\n",
        "  volume = panjang * lebar\n",
        "  return luas"
      ],
      "metadata": {
        "id": "JYNCgPbrenmA"
      },
      "execution_count": 85,
      "outputs": []
    },
    {
      "cell_type": "code",
      "source": [
        "luas = luas_persegi(panjang=5, lebar=10)"
      ],
      "metadata": {
        "id": "sQojVXelfDtM"
      },
      "execution_count": 81,
      "outputs": []
    },
    {
      "cell_type": "code",
      "source": [
        "luas"
      ],
      "metadata": {
        "id": "WROG7AAb6po1",
        "colab": {
          "base_uri": "https://localhost:8080/"
        },
        "outputId": "cb3faa41-7d4e-49c3-fdef-78ece5ef20ce"
      },
      "execution_count": 86,
      "outputs": [
        {
          "output_type": "execute_result",
          "data": {
            "text/plain": [
              "(50, 100)"
            ]
          },
          "metadata": {},
          "execution_count": 86
        }
      ]
    },
    {
      "cell_type": "code",
      "source": [
        "def luas_persegi(panjang, lebar):\n",
        "  luas = panjang * lebar\n",
        "  print(luas)"
      ],
      "metadata": {
        "id": "PUsn-LLzv3t0"
      },
      "execution_count": 87,
      "outputs": []
    },
    {
      "cell_type": "code",
      "source": [
        "hitung_luas = luas_persegi(panjang=6, lebar=10)"
      ],
      "metadata": {
        "id": "6dWuE2oYv5Ao",
        "colab": {
          "base_uri": "https://localhost:8080/"
        },
        "outputId": "5cf39d71-9f77-4fa6-94b7-9024899af3e6"
      },
      "execution_count": 88,
      "outputs": [
        {
          "output_type": "stream",
          "name": "stdout",
          "text": [
            "60\n"
          ]
        }
      ]
    },
    {
      "cell_type": "code",
      "source": [
        "hitung_luas"
      ],
      "metadata": {
        "id": "vwG_M8HbXFUM"
      },
      "execution_count": 89,
      "outputs": []
    },
    {
      "cell_type": "code",
      "source": [
        "def luas_persegi_2(panjang, lebar):\n",
        "  luas = panjang * lebar\n",
        "  return luas"
      ],
      "metadata": {
        "id": "WJhnN_S4W7BZ"
      },
      "execution_count": 90,
      "outputs": []
    },
    {
      "cell_type": "code",
      "source": [
        "hitung_luas_2 = luas_persegi_2(panjang=6, lebar=10)"
      ],
      "metadata": {
        "id": "s7Nmv0YHW_JP"
      },
      "execution_count": 91,
      "outputs": []
    },
    {
      "cell_type": "code",
      "source": [
        "hitung_luas_2"
      ],
      "metadata": {
        "id": "TCBHW-mAXCHw",
        "colab": {
          "base_uri": "https://localhost:8080/"
        },
        "outputId": "53f802d6-91ff-445c-e1bd-af373cbaa8df"
      },
      "execution_count": 93,
      "outputs": [
        {
          "output_type": "execute_result",
          "data": {
            "text/plain": [
              "60"
            ]
          },
          "metadata": {},
          "execution_count": 93
        }
      ]
    },
    {
      "cell_type": "markdown",
      "source": [
        "Perbedaan antara ```return``` dan ```print``` yang ada pada function def:"
      ],
      "metadata": {
        "id": "KAT6AcWQIC6p"
      }
    },
    {
      "cell_type": "markdown",
      "source": [
        "| Fitur                | `return`                                           | `print`                                  |\n",
        "|----------------------|----------------------------------------------------|-------------------------------------------|\n",
        "| Tujuan               | Mengembalikan nilai dari fungsi                   | Menampilkan nilai ke layar (console)     |\n",
        "| Output ke mana       | Ke variabel pemanggil function                    | Ke layar/output terminal                 |\n",
        "| Dipakai untuk        | Proses lanjutan, logika, perhitungan             | Debugging atau pengecekan manual         |\n",
        "| Bisa disimpan?       | bisa disimpan ke variabel                  | Tidak bisa disimpan langsung           |\n",
        "| Pengaruh ke program  | Bisa digunakan untuk logika/operasi selanjutnya  | Hanya untuk menampilkan output |\n",
        "\n",
        "----"
      ],
      "metadata": {
        "id": "kI37odaDH9I0"
      }
    },
    {
      "cell_type": "markdown",
      "source": [
        "# **Study Case**\n",
        "```\n",
        "Sistem Penilaian Student Data Science\n",
        "```\n",
        "\n",
        "Seorang mentor ingin membuat sistem sederhana untuk menghitung nilai akhir student berdasarkan:\n",
        "\n",
        "- Nilai assignment (20%)\n",
        "\n",
        "- Nilai ujian (30%)\n",
        "\n",
        "- Nilai final project (50%)\n",
        "\n",
        "Guru tersebut juga ingin memberikan predikat huruf (A, B, C, D, E) berdasarkan nilai akhir. Berikut pembagiannya:\n",
        "- A jika nilai diatas 90\n",
        "- B jika nilai diantara 90 dan 80, termasuk keduanya\n",
        "- C jika nilai diantara 80 dan 70, 80 tidak termasuk\n",
        "- selain kondisi diatas, D\n",
        "\n",
        "```\n",
        "Problem❗❗❗\n",
        "Buatkan sebuah fungsi `def` untuk menampilkan nilai akhir dari student tersebut.\n",
        "Tentukan juga predikatnya berdasarkan nilai akhirnya.\n",
        "\n"
      ],
      "metadata": {
        "id": "bcG9a8J0geTj"
      }
    },
    {
      "cell_type": "code",
      "source": [
        "def nilai_akhir(nilai_assignment, nilai_ujian, nilai_final_project):\n",
        "  nilai = float(nilai_assignment*0.2 + nilai_ujian*0.3 + nilai_final_project*0.5)\n",
        "  if nilai > 90:\n",
        "    predikat = \"A\"\n",
        "  elif 90 >= nilai >= 80:\n",
        "    predikat = \"B\"\n",
        "  elif 80 > nilai >= 70:\n",
        "    predikat = \"C\"\n",
        "  else :\n",
        "    predikat = \"D\"\n",
        "\n",
        "  print(f\"Nilai akhirnya adalah {nilai}\")\n",
        "  print (f\"Predikatnya adalah {predikat}\")"
      ],
      "metadata": {
        "id": "B_4We9w9fK3f"
      },
      "execution_count": 94,
      "outputs": []
    },
    {
      "cell_type": "code",
      "source": [
        "nilai_akhir(86, 5, 90)"
      ],
      "metadata": {
        "colab": {
          "base_uri": "https://localhost:8080/"
        },
        "id": "2p76FMhbOHBo",
        "outputId": "d6049f9e-2852-4b04-cc15-9cad8a55a125"
      },
      "execution_count": 95,
      "outputs": [
        {
          "output_type": "stream",
          "name": "stdout",
          "text": [
            "Nilai akhirnya adalah 63.7\n",
            "Predikatnya adalah D\n"
          ]
        }
      ]
    }
  ]
}