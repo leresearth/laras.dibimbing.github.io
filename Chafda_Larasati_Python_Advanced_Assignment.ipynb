{
  "nbformat": 4,
  "nbformat_minor": 0,
  "metadata": {
    "colab": {
      "provenance": [],
      "authorship_tag": "ABX9TyMVAAubMA5F4jxGklAfIPRw",
      "include_colab_link": true
    },
    "kernelspec": {
      "name": "python3",
      "display_name": "Python 3"
    },
    "language_info": {
      "name": "python"
    }
  },
  "cells": [
    {
      "cell_type": "markdown",
      "metadata": {
        "id": "view-in-github",
        "colab_type": "text"
      },
      "source": [
        "<a href=\"https://colab.research.google.com/github/leresearth/laras.dibimbing.github.io/blob/main/Chafda_Larasati_Python_Advanced_Assignment.ipynb\" target=\"_parent\"><img src=\"https://colab.research.google.com/assets/colab-badge.svg\" alt=\"Open In Colab\"/></a>"
      ]
    },
    {
      "cell_type": "markdown",
      "source": [
        "Soal 1: Membuat Class dan Object\n",
        "Buatlah sebuah class Mahasiswa yang memiliki atribut nama, nim, dan jurusan. Tambahkan metode info_mahasiswa yang akan menampilkan informasi mahasiswa (nama, nim, dan jurusan).Perhatikan bagaimana mendeklarasikan class dan mendefinisikan atribut serta metode.\n",
        "Pastikan atribut dapat diakses dalam class dengan benar.\n",
        "Gunakan metode untuk menampilkan informasi dari instance yang dibuat.\n",
        "Goals: Memahami konsep dasar class dan object, serta bagaimana cara mengakses atribut dan metode dalam class."
      ],
      "metadata": {
        "id": "18KPJ4G2MAYT"
      }
    },
    {
      "cell_type": "code",
      "source": [
        "class Mahasiswa:\n",
        "  def __init__(self, nama, nim, jurusan):\n",
        "    self.nama = nama\n",
        "    self.nim = nim\n",
        "    self.jurusan = jurusan\n",
        "\n",
        "  def info_mahasiswa(self):\n",
        "    print(f\"Nama: {self.nama}\")\n",
        "    print(f\"NIM: {self.nim}\")\n",
        "    print(f\"Jurusan: {self.jurusan}\")\n",
        "\n",
        "mahasiswa_1 = Mahasiswa(nama=\"Chafda\", nim=\"08536\", jurusan=\"Geografi Lingkungan\")\n",
        "mahasiswa_1.info_mahasiswa()"
      ],
      "metadata": {
        "colab": {
          "base_uri": "https://localhost:8080/"
        },
        "id": "TDfr_6dYMCgg",
        "outputId": "324144b8-7840-431a-d9fd-cf48f5e37373"
      },
      "execution_count": null,
      "outputs": [
        {
          "output_type": "stream",
          "name": "stdout",
          "text": [
            "Nama: Chafda\n",
            "NIM: 08536\n",
            "Jurusan: Geografi Lingkungan\n"
          ]
        }
      ]
    },
    {
      "cell_type": "markdown",
      "source": [
        "Soal 2: Mengimplementasikan Encapsulation\n",
        "Buat class Tabungan yang memiliki atribut __saldo (bersifat private). Tambahkan metode deposit untuk menambah saldo dan tarik untuk mengambil saldo. Jika saldo tidak mencukupi, tampilkan pesan \"Saldo tidak mencukupi.\"\n",
        "Pahami konsep aksesibilitas atribut dalam OOP.\n",
        "Pastikan pengelolaan atribut private dapat dilakukan melalui metode yang sesuai.\n",
        "Terapkan validasi yang diperlukan untuk menjaga integritas data.\n",
        "Goals: Memahami konsep encapsulation, serta bagaimana menggunakan access modifiers dalam class Python."
      ],
      "metadata": {
        "id": "thdxiVikT5FX"
      }
    },
    {
      "cell_type": "code",
      "source": [
        "class tabungan:\n",
        "  def __init__ (self, saldo_awal):\n",
        "    self.__saldo = saldo_awal\n",
        "\n",
        "  def deposit(self, jumlah):\n",
        "    self.__saldo += jumlah\n",
        "    print(f\"Deposit sebesar {jumlah}. Saldo saat ini adalah {self.__saldo}\")\n",
        "\n",
        "  def tarik(self, jumlah):\n",
        "    if self.__saldo >= jumlah:\n",
        "      self.__saldo -= jumlah\n",
        "      print (f\"Penarikan sebesar {jumlah}. Saldo saat ini adalah {self.__saldo}\")\n",
        "    else:\n",
        "      print(\"Saldo tidak mencukupi\")\n",
        "\n",
        "  def lihat_saldo(self):\n",
        "    print(f\"Saldo saat ini adalah {self.__saldo}\")\n",
        "\n",
        "tabungan_1 = tabungan(saldo_awal=1000000)\n",
        "tabungan_1.tarik(1999)\n"
      ],
      "metadata": {
        "colab": {
          "base_uri": "https://localhost:8080/"
        },
        "id": "cuhOwDyNT725",
        "outputId": "5e4e8230-61f3-4dc0-9af1-763d80ee6d6a"
      },
      "execution_count": null,
      "outputs": [
        {
          "output_type": "stream",
          "name": "stdout",
          "text": [
            "Penarikan sebesar 1999. Saldo saat ini adalah 998001\n"
          ]
        }
      ]
    },
    {
      "cell_type": "markdown",
      "source": [
        "Soal 3: Mengimplementasikan Inheritance\n",
        "Buat class Pegawai yang memiliki atribut nama dan gaji. Buat subclass Manager yang mewarisi class Pegawai dan menambahkan atribut tunjangan. Tambahkan metode info_manager yang menampilkan informasi nama, gaji, dan tunjangan.\n",
        "Pahami bagaimana inheritance memungkinkan penggunaan kembali kode dari superclass.\n",
        "Pastikan subclass dapat memperluas fungsionalitas superclass dengan atribut/metode tambahan.\n",
        "Pastikan relasi antara superclass dan subclass terimplementasi dengan baik.\n",
        "Goals: Memahami konsep inheritance dan bagaimana membangun hubungan antara superclass dan subclass."
      ],
      "metadata": {
        "id": "aCjmzZ9KjK1c"
      }
    },
    {
      "cell_type": "code",
      "source": [
        "class Pegawai:\n",
        "    def __init__(self, nama, gaji):\n",
        "        self.nama = nama\n",
        "        self.gaji = gaji\n",
        "\n",
        "    def info_pegawai(self):\n",
        "        print(f\"Nama: {self.nama}\")\n",
        "        print(f\"Gaji: {self.gaji}\")\n",
        "\n",
        "class Manager(Pegawai):\n",
        "    def __init__(self, nama, gaji, tunjangan):\n",
        "        super().__init__(nama, gaji)\n",
        "        self.tunjangan = tunjangan\n",
        "\n",
        "    def info_manager(self):\n",
        "        self.info_pegawai()\n",
        "        print(f\"Tunjangan: {self.tunjangan}\")\n",
        "        print(f\"Total gaji: {self.gaji + self.tunjangan}\")\n",
        "\n",
        "manager_baru = Manager(\"Laras\", 9998, 9999)\n",
        "\n",
        "print(\"Info Manajer\")\n",
        "manager_baru.info_manager()"
      ],
      "metadata": {
        "colab": {
          "base_uri": "https://localhost:8080/"
        },
        "id": "cF98781_jRS1",
        "outputId": "8bc826a7-5f2d-4691-ac92-7a98aa4e6ff4"
      },
      "execution_count": null,
      "outputs": [
        {
          "output_type": "stream",
          "name": "stdout",
          "text": [
            "Info Manajer\n",
            "Nama: Laras\n",
            "Gaji: 9998\n",
            "Tunjangan: 9999\n",
            "Total gaji: 19997\n"
          ]
        }
      ]
    },
    {
      "cell_type": "markdown",
      "source": [],
      "metadata": {
        "id": "KjOo1_jHo_C_"
      }
    },
    {
      "cell_type": "code",
      "source": [],
      "metadata": {
        "id": "PSqmRuTUpH3z"
      },
      "execution_count": null,
      "outputs": []
    },
    {
      "cell_type": "markdown",
      "source": [
        "Soal 4: Polymorphism dan Method Overriding\n",
        "Buat class Kendaraan dengan metode bahan_bakar yang hanya menampilkan \"Jenis bahan bakar tidak diketahui.\" Buat subclass Mobil dan Motor, lalu override metode bahan_bakar pada masing-masing subclass untuk menampilkan jenis bahan bakar yang digunakan (contoh: \"Bensin\" untuk Mobil, \"Solar\" untuk Motor).\n",
        "Pahami konsep method overriding dan bagaimana menerapkannya dalam subclass.\n",
        "Pastikan method yang di-override memberikan hasil yang sesuai dengan subclass terkait.\n",
        "Gunakan metode yang sama tetapi dengan implementasi berbeda untuk setiap subclass.\n",
        "Goals: Memahami konsep polymorphism dan method overriding, serta bagaimana menerapkannya dalam subclass.\n",
        "\n",
        "## New Section"
      ],
      "metadata": {
        "id": "dZ_BLDzTo2yw"
      }
    },
    {
      "cell_type": "code",
      "source": [
        "class Kendaraan:\n",
        "    def bahan_bakar(self):\n",
        "        print(\"Jenis bahan bakar tidak diketahui.\")\n",
        "\n",
        "class Mobil(Kendaraan):\n",
        "    def bahan_bakar(self):\n",
        "        print(\"Bensin.\")\n",
        "\n",
        "class Motor(Kendaraan):\n",
        "    def bahan_bakar(self):\n",
        "        print(\"Solar.\")\n",
        "\n",
        "kendaraan_umum = Kendaraan()\n",
        "mobil_saya = Mobil()\n",
        "motor_saya = Motor()\n",
        "\n",
        "print(\"Kendaraan umum:\")\n",
        "kendaraan_umum.bahan_bakar()\n",
        "\n",
        "print(\"Mobil:\")\n",
        "mobil_saya.bahan_bakar()\n",
        "\n",
        "print(\"Motor:\")\n",
        "motor_saya.bahan_bakar()"
      ],
      "metadata": {
        "colab": {
          "base_uri": "https://localhost:8080/"
        },
        "id": "eFirmuMzw2KD",
        "outputId": "396a5867-7ec9-4442-f8a3-a96509c6dca6"
      },
      "execution_count": null,
      "outputs": [
        {
          "output_type": "stream",
          "name": "stdout",
          "text": [
            "Kendaraan umum:\n",
            "Jenis bahan bakar tidak diketahui.\n",
            "Mobil:\n",
            "Bensin.\n",
            "Motor:\n",
            "Solar.\n"
          ]
        }
      ]
    },
    {
      "cell_type": "markdown",
      "source": [
        "Soal 5: Abstraction dan Interfaces\n",
        "Buat class abstrak Hewan dengan metode abstrak suara. Buat subclass Kucing dan Anjing yang mengimplementasikan metode suara untuk mengeluarkan suara spesifik masing-masing (contoh: \"Meow\" untuk Kucing, \"Bark\" untuk Anjing).\n",
        "Pahami konsep abstraction dalam OOP dan bagaimana class abstrak digunakan.\n",
        "Implementasikan metode abstrak yang diwajibkan pada subclass.\n",
        "Pastikan kode tetap terstruktur dan mengikuti prinsip OOP.\n",
        "Goals: Memahami konsep abstraction serta bagaimana mengimplementasikan class abstrak dan metode abstrak dalam Python.\n"
      ],
      "metadata": {
        "id": "p0_XVsJcw7cW"
      }
    },
    {
      "cell_type": "code",
      "source": [
        "from abc import ABC, abstractmethod\n",
        "\n",
        "class Hewan(ABC):\n",
        "    @abstractmethod\n",
        "    def suara(self):\n",
        "        pass\n",
        "\n",
        "class Kucing(Hewan):\n",
        "    def suara(self):\n",
        "        print(\"Meow\")\n",
        "\n",
        "class Anjing(Hewan):\n",
        "    def suara(self):\n",
        "        print(\"Bark\")\n",
        "\n",
        "kucing_saya = Kucing()\n",
        "anjing_saya = Anjing()\n",
        "\n",
        "print(\"Suara Kucing:\")\n",
        "kucing_saya.suara()\n",
        "\n",
        "print(\"Suara Anjing:\")\n",
        "anjing_saya.suara()"
      ],
      "metadata": {
        "colab": {
          "base_uri": "https://localhost:8080/"
        },
        "id": "cIV4uw3HxBjd",
        "outputId": "61b4e5e3-670b-48e6-e97c-7ff4b9e5eb81"
      },
      "execution_count": null,
      "outputs": [
        {
          "output_type": "stream",
          "name": "stdout",
          "text": [
            "Suara Kucing:\n",
            "Meow\n",
            "Suara Anjing:\n",
            "Bark\n"
          ]
        }
      ]
    },
    {
      "cell_type": "markdown",
      "source": [
        "# New Section"
      ],
      "metadata": {
        "id": "7ic1WAJcptkb"
      }
    }
  ]
}