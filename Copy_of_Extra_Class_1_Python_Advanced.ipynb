{
  "nbformat": 4,
  "nbformat_minor": 0,
  "metadata": {
    "colab": {
      "provenance": [],
      "include_colab_link": true
    },
    "kernelspec": {
      "name": "python3",
      "display_name": "Python 3"
    },
    "language_info": {
      "name": "python"
    }
  },
  "cells": [
    {
      "cell_type": "markdown",
      "metadata": {
        "id": "view-in-github",
        "colab_type": "text"
      },
      "source": [
        "<a href=\"https://colab.research.google.com/github/leresearth/laras.dibimbing.github.io/blob/main/Copy_of_Extra_Class_1_Python_Advanced.ipynb\" target=\"_parent\"><img src=\"https://colab.research.google.com/assets/colab-badge.svg\" alt=\"Open In Colab\"/></a>"
      ]
    },
    {
      "cell_type": "markdown",
      "source": [
        "# 1. Object Oriented Programming Dasar"
      ],
      "metadata": {
        "id": "9VOVkMTjQV5v"
      }
    },
    {
      "cell_type": "code",
      "execution_count": null,
      "metadata": {
        "id": "ZUnYq3nl_Lqt"
      },
      "outputs": [],
      "source": [
        "class Mobil():\n",
        "    merek = \"Daihatus\"\n",
        "    tahun = 2025\n",
        "    cc = 1440\n",
        "    warna = \"Putih\"\n",
        "\n",
        "    def jalan(self):\n",
        "        print(\"Mobil ini sedang berjalan\")\n",
        "\n",
        "    def berhenti(self):\n",
        "        print(\"Mobil ini sudah berhenti\")\n",
        "\n",
        "\n",
        "kendaraan = Mobil()"
      ]
    },
    {
      "cell_type": "code",
      "source": [
        "print(kendaraan.merek)\n",
        "print(kendaraan.tahun)\n",
        "print(kendaraan.cc)\n",
        "print(kendaraan.warna)"
      ],
      "metadata": {
        "colab": {
          "base_uri": "https://localhost:8080/"
        },
        "id": "Lp-PiOBiAEpb",
        "outputId": "e63659a5-042a-4d4d-e4a3-b93201b3586c"
      },
      "execution_count": null,
      "outputs": [
        {
          "output_type": "stream",
          "name": "stdout",
          "text": [
            "Daihatus\n",
            "2025\n",
            "1440\n",
            "Putih\n"
          ]
        }
      ]
    },
    {
      "cell_type": "markdown",
      "source": [
        "---\n",
        "Kode diatas tidak dipakai dalam real industri, karena attribute tidak fleksibel\n",
        "\n",
        "---\n"
      ],
      "metadata": {
        "id": "Rh0JFWqnQFBn"
      }
    },
    {
      "cell_type": "markdown",
      "source": [
        "## 1.1 OOP in real industry"
      ],
      "metadata": {
        "id": "FkVTOUt0QeIH"
      }
    },
    {
      "cell_type": "markdown",
      "source": [
        "### Test sub bab-3"
      ],
      "metadata": {
        "id": "biRJq_eiBYxP"
      }
    },
    {
      "cell_type": "code",
      "source": [
        "class Mobil():\n",
        "  def __init__(self, merek, tahun, cc, warna):\n",
        "    self.merek = merek\n",
        "    self.tahun = tahun\n",
        "    self.cc = cc\n",
        "    self.warna = warna\n",
        "\n",
        "  def jalan(self):\n",
        "      print(\"Mobil ini sedang berjalan\")\n",
        "\n",
        "  def berhenti(self):\n",
        "      print(\"Mobil ini sudah berhenti\")"
      ],
      "metadata": {
        "id": "muRyCkCHAFg6"
      },
      "execution_count": null,
      "outputs": []
    },
    {
      "cell_type": "markdown",
      "source": [
        "- `__init__` merupakan method spesial dalam oop untuk mendeklarasikan attribute objek yang baru dibuat. Ini berarti menyiapkan keadaan awal objek dengan menetapkan nilai pada variabelnya.\n",
        "\n",
        "- `self` adalah argumen **WAJIB** yang harus ada pada awal argumen. `self` ini merujuk pada <font color=\"blue\">class</font>\n",
        " itu sendiri, yang memungkinkan kita mengakses dan mengubah attribute-nya."
      ],
      "metadata": {
        "id": "Jgav8JTIRC6Z"
      }
    },
    {
      "cell_type": "code",
      "source": [
        "kendaraan_1 = Mobil(merek=\"Totota\", tahun=2025, cc=1440, warna=\"Putih\")"
      ],
      "metadata": {
        "id": "cnoD9Zu6QpU3"
      },
      "execution_count": null,
      "outputs": []
    },
    {
      "cell_type": "code",
      "source": [
        "print(kendaraan_1.merek)\n",
        "print(kendaraan_1.tahun)\n",
        "print(kendaraan_1.cc)\n",
        "print(kendaraan_1.warna)"
      ],
      "metadata": {
        "colab": {
          "base_uri": "https://localhost:8080/"
        },
        "id": "ha3ng2PbQrYd",
        "outputId": "581f84c3-36eb-4248-9615-5930474a9935"
      },
      "execution_count": null,
      "outputs": [
        {
          "output_type": "stream",
          "name": "stdout",
          "text": [
            "Totota\n",
            "2025\n",
            "1440\n",
            "Putih\n"
          ]
        }
      ]
    },
    {
      "cell_type": "code",
      "source": [
        "kendaraan_2 = Mobil(\"Mitubishi\", 2021, 1600, \"Hitam\")"
      ],
      "metadata": {
        "id": "vk_Z3uN6QtE-"
      },
      "execution_count": null,
      "outputs": []
    },
    {
      "cell_type": "code",
      "source": [
        "print(kendaraan_2.merek)\n",
        "print(kendaraan_2.tahun)\n",
        "print(kendaraan_2.cc)\n",
        "print(kendaraan_2.warna)"
      ],
      "metadata": {
        "colab": {
          "base_uri": "https://localhost:8080/"
        },
        "id": "rykM2ZQYQ43J",
        "outputId": "57b40603-116f-44fe-cae5-188802a35f34"
      },
      "execution_count": null,
      "outputs": [
        {
          "output_type": "stream",
          "name": "stdout",
          "text": [
            "Mitubishi\n",
            "2021\n",
            "1600\n",
            "Hitam\n"
          ]
        }
      ]
    },
    {
      "cell_type": "code",
      "source": [
        "kendaraan_1.jalan()"
      ],
      "metadata": {
        "colab": {
          "base_uri": "https://localhost:8080/"
        },
        "id": "Tz8TyzUw7Jd0",
        "outputId": "de41aa65-5c8c-41e1-c099-c2952ecb4540"
      },
      "execution_count": null,
      "outputs": [
        {
          "output_type": "stream",
          "name": "stdout",
          "text": [
            "Mobil ini sedang berjalan\n"
          ]
        }
      ]
    },
    {
      "cell_type": "code",
      "source": [
        "kendaraan_2.jalan()"
      ],
      "metadata": {
        "colab": {
          "base_uri": "https://localhost:8080/"
        },
        "id": "r5WheYoC7Mh1",
        "outputId": "d9e86bc5-952c-4c78-f992-6feaabae5296"
      },
      "execution_count": null,
      "outputs": [
        {
          "output_type": "stream",
          "name": "stdout",
          "text": [
            "Mobil ini sedang berjalan\n"
          ]
        }
      ]
    },
    {
      "cell_type": "code",
      "source": [
        "class Mobil():\n",
        "  def __init__(self, merek, tahun, cc, warna):\n",
        "    self.merek = merek\n",
        "    self.tahun = tahun\n",
        "    self.cc = cc\n",
        "    self.warna = warna\n",
        "\n",
        "  def jalan(self):\n",
        "      print(f\"Mobil {self.merek} berwarna {self.warna} ini sedang berjalan\")\n",
        "\n",
        "  def berhenti(self):\n",
        "      print(\"Mobil ini sudah berhenti\")"
      ],
      "metadata": {
        "id": "dXnMgxYfmBC5"
      },
      "execution_count": null,
      "outputs": []
    },
    {
      "cell_type": "code",
      "source": [
        "kendaraan_3 = Mobil(\"Ferrari\", 2025, 1440, \"Putih\")\n",
        "kendaraan_3.jalan()"
      ],
      "metadata": {
        "colab": {
          "base_uri": "https://localhost:8080/"
        },
        "id": "wd-1B8CwmRyR",
        "outputId": "fbf7253a-2ee0-4f47-da54-94a82c2ef7a7"
      },
      "execution_count": null,
      "outputs": [
        {
          "output_type": "stream",
          "name": "stdout",
          "text": [
            "Mobil Ferrari berwarna Putih ini sedang berjalan\n"
          ]
        }
      ]
    },
    {
      "cell_type": "markdown",
      "source": [
        "---"
      ],
      "metadata": {
        "id": "RM6IutF_6-Ld"
      }
    },
    {
      "cell_type": "markdown",
      "source": [
        "# 2. Principle of OOP"
      ],
      "metadata": {
        "id": "sAWqm6Vo6_0r"
      }
    },
    {
      "cell_type": "markdown",
      "source": [
        "## 2.1 Inheritance"
      ],
      "metadata": {
        "id": "8fP7Xr257AL0"
      }
    },
    {
      "cell_type": "markdown",
      "source": [
        "### Inheritance tanpa attribute baru pada subclass"
      ],
      "metadata": {
        "id": "kbQI5Q8f70VU"
      }
    },
    {
      "cell_type": "code",
      "source": [
        "class Mobil():\n",
        "  def __init__(self, merek, tahun, cc, warna):\n",
        "    self.merek = merek\n",
        "    self.tahun = tahun\n",
        "    self.cc = cc\n",
        "    self.warna = warna\n",
        "\n",
        "  def jalan(self):\n",
        "      print(f\"Mobil ini sedang berjalan\")\n",
        "\n",
        "  def berhenti(self):\n",
        "      print(\"Mobil ini sudah berhenti\")"
      ],
      "metadata": {
        "id": "_U0b_KgqmZRJ"
      },
      "execution_count": null,
      "outputs": []
    },
    {
      "cell_type": "code",
      "source": [
        "class MobilSport(Mobil):\n",
        "    def sport(self):\n",
        "        print(\"Ini adalah mobil sport\")"
      ],
      "metadata": {
        "id": "R1vMUiJL7TA_"
      },
      "execution_count": null,
      "outputs": []
    },
    {
      "cell_type": "code",
      "source": [
        "mobil_sport = MobilSport(\"Ferrari\", 2023, 4000, \"Merah\")"
      ],
      "metadata": {
        "id": "pF_Iqr4d7e1n"
      },
      "execution_count": null,
      "outputs": []
    },
    {
      "cell_type": "code",
      "source": [
        "print(mobil_sport.merek)\n",
        "print(mobil_sport.tahun)\n",
        "print(mobil_sport.cc)\n",
        "print(mobil_sport.warna)"
      ],
      "metadata": {
        "colab": {
          "base_uri": "https://localhost:8080/"
        },
        "id": "R6_tMvQj7kSm",
        "outputId": "c7bfcb71-ed99-4eab-d981-8e75966b9794"
      },
      "execution_count": null,
      "outputs": [
        {
          "output_type": "stream",
          "name": "stdout",
          "text": [
            "Ferrari\n",
            "2023\n",
            "4000\n",
            "Merah\n"
          ]
        }
      ]
    },
    {
      "cell_type": "code",
      "source": [
        "mobil_sport.jalan()"
      ],
      "metadata": {
        "colab": {
          "base_uri": "https://localhost:8080/"
        },
        "id": "3A8s_pGR7oJe",
        "outputId": "60c0365e-d849-474d-b1e9-e7a44d2a47fc"
      },
      "execution_count": null,
      "outputs": [
        {
          "output_type": "stream",
          "name": "stdout",
          "text": [
            "Mobil ini sedang berjalan\n"
          ]
        }
      ]
    },
    {
      "cell_type": "code",
      "source": [
        "mobil_sport.berhenti()"
      ],
      "metadata": {
        "colab": {
          "base_uri": "https://localhost:8080/"
        },
        "id": "GBwoIGtg7qWH",
        "outputId": "f2dac79d-d301-471d-8941-395f87a0bf70"
      },
      "execution_count": null,
      "outputs": [
        {
          "output_type": "stream",
          "name": "stdout",
          "text": [
            "Mobil ini sudah berhenti\n"
          ]
        }
      ]
    },
    {
      "cell_type": "markdown",
      "source": [
        "### Inheritance dengan attribute baru pada subclass"
      ],
      "metadata": {
        "id": "mApN5soc7-__"
      }
    },
    {
      "cell_type": "code",
      "source": [
        "class MobilSport(Mobil):\n",
        "    def __init__(self, merek, tahun, cc, warna, turbo):\n",
        "        super().__init__(merek, tahun, cc, warna)\n",
        "\n",
        "        self.turbo = turbo    # turbo adalah attribute baru. (tidak ada pada class Mobil)\n",
        "\n",
        "    def sport(self):\n",
        "        print(\"Ini adalah mobil sport\")\n",
        "\n",
        "    def nitro(self):\n",
        "        super().jalan()\n",
        "        if self.turbo == True:\n",
        "            print(\"Mobil ini berjalan menggunakan turbo\")"
      ],
      "metadata": {
        "id": "NvCFCHjT7rxP"
      },
      "execution_count": null,
      "outputs": []
    },
    {
      "cell_type": "code",
      "source": [
        "mobil_sport_3 = MobilSport(\"Ferrari\", 2023, 4000, \"Merah\", False)"
      ],
      "metadata": {
        "id": "ONJHqgNs2KQ_"
      },
      "execution_count": null,
      "outputs": []
    },
    {
      "cell_type": "code",
      "source": [
        "mobil_sport_3.nitro()"
      ],
      "metadata": {
        "colab": {
          "base_uri": "https://localhost:8080/"
        },
        "id": "j0HLORZS2O3K",
        "outputId": "f8f9079f-930a-4757-a2e0-09c1be56a6b8"
      },
      "execution_count": null,
      "outputs": [
        {
          "output_type": "stream",
          "name": "stdout",
          "text": [
            "Mobil ini sedang berjalan\n"
          ]
        }
      ]
    },
    {
      "cell_type": "code",
      "source": [
        "mobil_sport_3.tahun"
      ],
      "metadata": {
        "colab": {
          "base_uri": "https://localhost:8080/"
        },
        "id": "2lWVbNnF-aTd",
        "outputId": "8ec1e9e8-bee9-487b-bd33-89e077cdfc03"
      },
      "execution_count": null,
      "outputs": [
        {
          "output_type": "execute_result",
          "data": {
            "text/plain": [
              "2023"
            ]
          },
          "metadata": {},
          "execution_count": 73
        }
      ]
    },
    {
      "cell_type": "code",
      "source": [
        "mobil_sport_2 = MobilSport(\"Ferrari\", 2023, 4000, \"Merah\", True)"
      ],
      "metadata": {
        "id": "0HDvWeQY8I9-"
      },
      "execution_count": null,
      "outputs": []
    },
    {
      "cell_type": "code",
      "source": [
        "print(mobil_sport_2.merek)\n",
        "print(mobil_sport_2.tahun)\n",
        "print(mobil_sport_2.cc)\n",
        "print(mobil_sport_2.warna)\n",
        "print(mobil_sport_2.turbo)"
      ],
      "metadata": {
        "colab": {
          "base_uri": "https://localhost:8080/"
        },
        "id": "geJdEmw88Ly7",
        "outputId": "53b60f1b-e515-4c0b-bda6-38981db1375d"
      },
      "execution_count": null,
      "outputs": [
        {
          "output_type": "stream",
          "name": "stdout",
          "text": [
            "Ferrari\n",
            "2023\n",
            "4000\n",
            "Merah\n",
            "True\n"
          ]
        }
      ]
    },
    {
      "cell_type": "code",
      "source": [
        "mobil_sport_2.nitro()"
      ],
      "metadata": {
        "colab": {
          "base_uri": "https://localhost:8080/"
        },
        "id": "Eo8EBzHe8Pn5",
        "outputId": "c048eec2-4bf8-4449-b204-19a8a9cf6555"
      },
      "execution_count": null,
      "outputs": [
        {
          "output_type": "stream",
          "name": "stdout",
          "text": [
            "Mobil ini sedang berjalan\n",
            "Mobil ini berjalan menggunakan turbo\n"
          ]
        }
      ]
    },
    {
      "cell_type": "markdown",
      "source": [
        "## 2.2 Polymorphisme"
      ],
      "metadata": {
        "id": "Yk0wOJBKBebK"
      }
    },
    {
      "cell_type": "markdown",
      "source": [
        "### Override"
      ],
      "metadata": {
        "id": "6by75aVG9N9V"
      }
    },
    {
      "cell_type": "code",
      "source": [
        "class Mobil():\n",
        "  def __init__(self, merek, tahun, cc, warna):\n",
        "    self.merek = merek\n",
        "    self.tahun = tahun\n",
        "    self.cc = cc\n",
        "    self.warna = warna\n",
        "\n",
        "  def jalan(self):\n",
        "      print(f\"Mobil ini {self.merek} sedang berjalan\")\n",
        "\n",
        "  def berhenti(self):\n",
        "      print(\"Mobil ini sudah berhenti\")"
      ],
      "metadata": {
        "id": "Fx11uFWS2_4V"
      },
      "execution_count": null,
      "outputs": []
    },
    {
      "cell_type": "code",
      "source": [
        "class MobilSport(Mobil):\n",
        "    def __init__(self, merek, tahun, cc, warna, turbo):\n",
        "        super().__init__(merek, tahun, cc, warna)\n",
        "        self.turbo = turbo\n",
        "\n",
        "    def berhenti(self):\n",
        "        print(\"Mobil sport ini berhenti menggunakan turbo\")\n",
        "\n"
      ],
      "metadata": {
        "id": "GM89EHos8SsU"
      },
      "execution_count": null,
      "outputs": []
    },
    {
      "cell_type": "code",
      "source": [
        "mobil_sport_4 = MobilSport(\"Ferrari\", 2023, 4000, \"Merah\", 6)"
      ],
      "metadata": {
        "id": "6f3ysMJP9Vw4"
      },
      "execution_count": null,
      "outputs": []
    },
    {
      "cell_type": "code",
      "source": [
        "mobil_sport_4.berhenti()"
      ],
      "metadata": {
        "colab": {
          "base_uri": "https://localhost:8080/"
        },
        "id": "Qmp85QHP9gxd",
        "outputId": "062249f0-7820-4918-b736-e42da1408c44"
      },
      "execution_count": null,
      "outputs": [
        {
          "output_type": "stream",
          "name": "stdout",
          "text": [
            "Mobil sport ini berhenti menggunakan turbo\n"
          ]
        }
      ]
    },
    {
      "cell_type": "code",
      "source": [
        "mobil_sport_4.jalan()"
      ],
      "metadata": {
        "colab": {
          "base_uri": "https://localhost:8080/"
        },
        "id": "1Ut85ft2462X",
        "outputId": "6028289d-db76-4ba6-bf50-b3b7819151f6"
      },
      "execution_count": null,
      "outputs": [
        {
          "output_type": "stream",
          "name": "stdout",
          "text": [
            "Mobil ini Ferrari sedang berjalan\n"
          ]
        }
      ]
    },
    {
      "cell_type": "markdown",
      "source": [
        "## 2.3 Abstraction"
      ],
      "metadata": {
        "id": "xKF2H-rYV14O"
      }
    },
    {
      "cell_type": "code",
      "source": [
        "from abc import ABC, abstractmethod\n",
        "# Abstract Base Classes\n",
        "\n",
        "class Mobil(ABC):\n",
        "    def __init__(self, merek, tahun, cc, warna):\n",
        "        self.merek = merek\n",
        "        self.tahun = tahun\n",
        "        self.cc = cc\n",
        "        self.warna = warna\n",
        "\n",
        "    @abstractmethod\n",
        "    def bensin(self):\n",
        "        pass"
      ],
      "metadata": {
        "id": "d4m-_fVu9i7I"
      },
      "execution_count": null,
      "outputs": []
    },
    {
      "cell_type": "code",
      "source": [
        "class MobilSport(Mobil):\n",
        "    def sport(self):\n",
        "        print(\"Ini adalah mobil sport\")\n",
        "\n",
        "    def bensin(self):\n",
        "        print(\"Mobil ini menggunakan Pertamax\")"
      ],
      "metadata": {
        "id": "NLHGS8L7V6Up"
      },
      "execution_count": null,
      "outputs": []
    },
    {
      "cell_type": "code",
      "source": [
        "mobil_sport_5 = MobilSport(\"Ferrari\", 2023, 4000, \"Merah\")"
      ],
      "metadata": {
        "id": "6RSSBPVAV_VA"
      },
      "execution_count": null,
      "outputs": []
    },
    {
      "cell_type": "code",
      "source": [
        "mobil_sport_5.bensin()"
      ],
      "metadata": {
        "colab": {
          "base_uri": "https://localhost:8080/"
        },
        "id": "kbxh5ayV5r3k",
        "outputId": "46344555-7e15-464b-bddc-5c0a54dd4a9b"
      },
      "execution_count": null,
      "outputs": [
        {
          "output_type": "stream",
          "name": "stdout",
          "text": [
            "Mobil ini menggunakan Pertamax\n"
          ]
        }
      ]
    },
    {
      "cell_type": "code",
      "source": [
        "class MobilSport(Mobil):\n",
        "    def sport(self):\n",
        "        print(\"Ini adalah mobil sport\")\n",
        "\n",
        "    def bensin(self):\n",
        "        print(\"Mobil ini menggunakan Pertamax\")"
      ],
      "metadata": {
        "id": "szw5WzmrV-yI"
      },
      "execution_count": null,
      "outputs": []
    },
    {
      "cell_type": "code",
      "source": [
        "mobil_sport_5 = MobilSport(\"Ferrari\", 2023, 4000, \"Merah\")"
      ],
      "metadata": {
        "id": "CXwixm2gWP1T"
      },
      "execution_count": null,
      "outputs": []
    },
    {
      "cell_type": "code",
      "source": [
        "print(mobil_sport_5.bensin())"
      ],
      "metadata": {
        "colab": {
          "base_uri": "https://localhost:8080/"
        },
        "id": "Ch1aOjkfWRDt",
        "outputId": "d177f679-edbf-4114-8b1b-a181ce80875c"
      },
      "execution_count": null,
      "outputs": [
        {
          "output_type": "stream",
          "name": "stdout",
          "text": [
            "Mobil ini menggunakan Pertamax\n",
            "None\n"
          ]
        }
      ]
    },
    {
      "cell_type": "markdown",
      "source": [
        "## 2.4 Encapsulation"
      ],
      "metadata": {
        "id": "SazKlJzHXCIO"
      }
    },
    {
      "cell_type": "code",
      "source": [
        "class Mobil():\n",
        "    def __init__(self, merek, tahun, cc, warna, noMesin):\n",
        "        self.merek = merek\n",
        "        self.tahun = tahun\n",
        "        self.cc = cc\n",
        "        self.warna = warna\n",
        "        self.__noMesin = noMesin # encapsulation"
      ],
      "metadata": {
        "id": "pEaMm2HlWSOE"
      },
      "execution_count": null,
      "outputs": []
    },
    {
      "cell_type": "code",
      "source": [
        "kendaraan_2 = Mobil(\"Daihatus\", 2025, 1400, \"Putih\", \"D1B1M131N9\")"
      ],
      "metadata": {
        "id": "u2ahjqbKgE8d"
      },
      "execution_count": null,
      "outputs": []
    },
    {
      "cell_type": "code",
      "source": [
        "print(kendaraan_2.merek)"
      ],
      "metadata": {
        "colab": {
          "base_uri": "https://localhost:8080/"
        },
        "id": "QFzlnyA3gOZo",
        "outputId": "769f8df3-714c-468a-c34d-985bc8ff09cc"
      },
      "execution_count": null,
      "outputs": [
        {
          "output_type": "stream",
          "name": "stdout",
          "text": [
            "Daihatus\n"
          ]
        }
      ]
    },
    {
      "cell_type": "code",
      "source": [
        "kendaraan_2.lihat_noMesin()"
      ],
      "metadata": {
        "colab": {
          "base_uri": "https://localhost:8080/",
          "height": 141
        },
        "id": "iZ9rJ94pgIoF",
        "outputId": "e0c99c75-7551-4c6c-c8ad-08627d0cc369"
      },
      "execution_count": null,
      "outputs": [
        {
          "output_type": "error",
          "ename": "AttributeError",
          "evalue": "'Mobil' object has no attribute 'lihat_noMesin'",
          "traceback": [
            "\u001b[0;31m---------------------------------------------------------------------------\u001b[0m",
            "\u001b[0;31mAttributeError\u001b[0m                            Traceback (most recent call last)",
            "\u001b[0;32m/tmp/ipython-input-3591452731.py\u001b[0m in \u001b[0;36m<cell line: 0>\u001b[0;34m()\u001b[0m\n\u001b[0;32m----> 1\u001b[0;31m \u001b[0mkendaraan_2\u001b[0m\u001b[0;34m.\u001b[0m\u001b[0mlihat_noMesin\u001b[0m\u001b[0;34m(\u001b[0m\u001b[0;34m)\u001b[0m\u001b[0;34m\u001b[0m\u001b[0;34m\u001b[0m\u001b[0m\n\u001b[0m",
            "\u001b[0;31mAttributeError\u001b[0m: 'Mobil' object has no attribute 'lihat_noMesin'"
          ]
        }
      ]
    },
    {
      "cell_type": "code",
      "source": [
        "class Mobil():\n",
        "    def __init__(self, merek, tahun, cc, warna, noMesin):\n",
        "        self.merek = merek\n",
        "        self.tahun = tahun\n",
        "        self.cc = cc\n",
        "        self.warna = warna\n",
        "        self.__noMesin = noMesin\n",
        "\n",
        "    def lihat_noMesin(self):\n",
        "        print(self.__noMesin)"
      ],
      "metadata": {
        "id": "ggQpUYjwgNTg"
      },
      "execution_count": 105,
      "outputs": []
    },
    {
      "cell_type": "code",
      "source": [
        "kendaraan_2 = Mobil(\"Daihatus\", 2025, 1400, \"Putih\", \"D1B1M131N9\")"
      ],
      "metadata": {
        "id": "47arwt6ugUAK"
      },
      "execution_count": 106,
      "outputs": []
    },
    {
      "cell_type": "code",
      "source": [
        "kendaraan_2.noMesin"
      ],
      "metadata": {
        "colab": {
          "base_uri": "https://localhost:8080/",
          "height": 141
        },
        "id": "UdBPGx7gClB0",
        "outputId": "8420655e-c7f8-4338-cddd-a50cfd45dcda"
      },
      "execution_count": null,
      "outputs": [
        {
          "output_type": "error",
          "ename": "AttributeError",
          "evalue": "'Mobil' object has no attribute 'noMesin'",
          "traceback": [
            "\u001b[0;31m---------------------------------------------------------------------------\u001b[0m",
            "\u001b[0;31mAttributeError\u001b[0m                            Traceback (most recent call last)",
            "\u001b[0;32m/tmp/ipython-input-4034290796.py\u001b[0m in \u001b[0;36m<cell line: 0>\u001b[0;34m()\u001b[0m\n\u001b[0;32m----> 1\u001b[0;31m \u001b[0mkendaraan_2\u001b[0m\u001b[0;34m.\u001b[0m\u001b[0mnoMesin\u001b[0m\u001b[0;34m\u001b[0m\u001b[0;34m\u001b[0m\u001b[0m\n\u001b[0m",
            "\u001b[0;31mAttributeError\u001b[0m: 'Mobil' object has no attribute 'noMesin'"
          ]
        }
      ]
    },
    {
      "cell_type": "code",
      "source": [
        "kendaraan_2.lihat_noMesin()"
      ],
      "metadata": {
        "colab": {
          "base_uri": "https://localhost:8080/"
        },
        "id": "qFzjYzoxgV1k",
        "outputId": "900b6cf9-aae0-4c5a-96cb-fb793c4f1171"
      },
      "execution_count": 107,
      "outputs": [
        {
          "output_type": "stream",
          "name": "stdout",
          "text": [
            "D1B1M131N9\n"
          ]
        }
      ]
    },
    {
      "cell_type": "code",
      "source": [
        "class Mobil():\n",
        "    def __init__(self, merek, tahun, cc, warna, noMesin, stnk):\n",
        "        self.merek = merek\n",
        "        self.tahun = tahun\n",
        "        self.cc = cc\n",
        "        self.warna = warna\n",
        "        self.__noMesin = noMesin\n",
        "        self.__stnk = stnk\n",
        "\n",
        "    # method ini hanya digunakan untuk kebutuhan melihat noMesin\n",
        "    def lihat_noMesin(self):\n",
        "        print(f\"No mesin mobil: {self.__noMesin}\")\n",
        "\n",
        "    # methon ini hanya digunakan untuk kebutuhan mengubah data encapsulation\n",
        "    def ubah_noMesin(self, noMesinBaru):\n",
        "        print(\"Nomor mesin berhasil diubah!\")\n",
        "        self.__noMesin = noMesinBaru\n",
        "\n",
        "    def __ganti_stnk(self, stnkBaru): # encapsulation\n",
        "        self.__stnk = stnkBaru\n",
        "\n"
      ],
      "metadata": {
        "id": "V7thcMsEgXGH"
      },
      "execution_count": null,
      "outputs": []
    },
    {
      "cell_type": "code",
      "source": [
        "mobil1 = Mobil(\"Toyota\", 2021, 1500, \"Hitam\", \"ENG12345\", \"STNK001\")"
      ],
      "metadata": {
        "id": "c5cFJQYzbejb"
      },
      "execution_count": null,
      "outputs": []
    },
    {
      "cell_type": "code",
      "source": [
        "mobil1.lihat_noMesin()"
      ],
      "metadata": {
        "colab": {
          "base_uri": "https://localhost:8080/"
        },
        "id": "4PFamp6FDF9u",
        "outputId": "f038cea1-f613-4619-ddff-7c095e810874"
      },
      "execution_count": null,
      "outputs": [
        {
          "output_type": "stream",
          "name": "stdout",
          "text": [
            "No mesin mobil: ENG12345\n"
          ]
        }
      ]
    },
    {
      "cell_type": "code",
      "source": [
        "mobil1.ubah_noMesin(\"DIBIMBING12345\")"
      ],
      "metadata": {
        "colab": {
          "base_uri": "https://localhost:8080/"
        },
        "id": "CEPrrMV97n8v",
        "outputId": "c45f0f4d-ce33-4e34-da5e-cc782a068177"
      },
      "execution_count": null,
      "outputs": [
        {
          "output_type": "stream",
          "name": "stdout",
          "text": [
            "Nomor mesin berhasil diubah!\n"
          ]
        }
      ]
    },
    {
      "cell_type": "code",
      "source": [
        "mobil1.lihat_noMesin()"
      ],
      "metadata": {
        "colab": {
          "base_uri": "https://localhost:8080/"
        },
        "id": "EjW4kwBY7uU-",
        "outputId": "2963b385-2ca0-43d5-9541-74d975a63e62"
      },
      "execution_count": null,
      "outputs": [
        {
          "output_type": "stream",
          "name": "stdout",
          "text": [
            "No mesin mobil: DIBIMBING12345\n"
          ]
        }
      ]
    },
    {
      "cell_type": "code",
      "source": [
        "# ini adalah name mangling,\n",
        "\n",
        "print(mobil1._Mobil__noMesin)\n"
      ],
      "metadata": {
        "colab": {
          "base_uri": "https://localhost:8080/"
        },
        "id": "boJPqpxXySwh",
        "outputId": "47c021aa-fb20-4f4c-acf1-38546a638567"
      },
      "execution_count": null,
      "outputs": [
        {
          "output_type": "stream",
          "name": "stdout",
          "text": [
            "DIBIMBING12345\n"
          ]
        }
      ]
    },
    {
      "cell_type": "code",
      "source": [
        "mobil1.__ganti_stnk(\"STNK002\")"
      ],
      "metadata": {
        "colab": {
          "base_uri": "https://localhost:8080/",
          "height": 141
        },
        "id": "YeC9AROHx9YC",
        "outputId": "271ee6d9-4a73-4853-f61e-b7416b6cf159"
      },
      "execution_count": null,
      "outputs": [
        {
          "output_type": "error",
          "ename": "AttributeError",
          "evalue": "'Mobil' object has no attribute '__ganti_stnk'",
          "traceback": [
            "\u001b[0;31m---------------------------------------------------------------------------\u001b[0m",
            "\u001b[0;31mAttributeError\u001b[0m                            Traceback (most recent call last)",
            "\u001b[0;32m/tmp/ipython-input-250783899.py\u001b[0m in \u001b[0;36m<cell line: 0>\u001b[0;34m()\u001b[0m\n\u001b[0;32m----> 1\u001b[0;31m \u001b[0mmobil1\u001b[0m\u001b[0;34m.\u001b[0m\u001b[0m__ganti_stnk\u001b[0m\u001b[0;34m(\u001b[0m\u001b[0;34m\"STNK002\"\u001b[0m\u001b[0;34m)\u001b[0m\u001b[0;34m\u001b[0m\u001b[0;34m\u001b[0m\u001b[0m\n\u001b[0m",
            "\u001b[0;31mAttributeError\u001b[0m: 'Mobil' object has no attribute '__ganti_stnk'"
          ]
        }
      ]
    },
    {
      "cell_type": "code",
      "source": [
        "mobil1.lihat_noMesin()"
      ],
      "metadata": {
        "colab": {
          "base_uri": "https://localhost:8080/"
        },
        "id": "LWUI84sMxd4m",
        "outputId": "2928d145-5bb4-466c-eac0-f72060a70a8a"
      },
      "execution_count": null,
      "outputs": [
        {
          "output_type": "stream",
          "name": "stdout",
          "text": [
            "No mesin mobil: DIBIMBING12345\n"
          ]
        }
      ]
    },
    {
      "cell_type": "code",
      "source": [],
      "metadata": {
        "id": "uksG22jExkG8"
      },
      "execution_count": null,
      "outputs": []
    }
  ]
}